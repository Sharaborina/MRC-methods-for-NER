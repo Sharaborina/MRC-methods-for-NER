{
  "nbformat": 4,
  "nbformat_minor": 0,
  "metadata": {
    "colab": {
      "name": "Result_preprocess.ipynb",
      "provenance": [],
      "collapsed_sections": []
    },
    "kernelspec": {
      "name": "python3",
      "display_name": "Python 3"
    },
    "language_info": {
      "name": "python"
    }
  },
  "cells": [
    {
      "cell_type": "code",
      "execution_count": null,
      "metadata": {
        "colab": {
          "base_uri": "https://localhost:8080/"
        },
        "id": "LTMOkMyu-fZ3",
        "outputId": "cc1a4e0f-db6a-4b06-9cbb-a0bc045b51c2"
      },
      "outputs": [
        {
          "output_type": "stream",
          "name": "stdout",
          "text": [
            "Mounted at /content/drive\n"
          ]
        }
      ],
      "source": [
        "import re\n",
        "import string\n",
        "import pandas as pd\n",
        "\n",
        "import csv\n",
        "import json\n",
        "import glob\n",
        "\n",
        "from google.colab import drive\n",
        "drive.mount('/content/drive')"
      ]
    },
    {
      "cell_type": "code",
      "source": [
        "import plotly.express as px\n"
      ],
      "metadata": {
        "id": "BbKxgkH5MC0x"
      },
      "execution_count": null,
      "outputs": []
    },
    {
      "cell_type": "code",
      "source": [
        "with open('/content/drive/MyDrive/Diploma_paper/out_nerel_inference_new.txt') as f:\n",
        "  text = f.read()"
      ],
      "metadata": {
        "id": "CypCLXUw-r_c"
      },
      "execution_count": null,
      "outputs": []
    },
    {
      "cell_type": "markdown",
      "source": [
        "Let us make a list of predictions"
      ],
      "metadata": {
        "id": "pBQGZKC-K2Ff"
      }
    },
    {
      "cell_type": "code",
      "source": [
        "text_list = text.split('*=*=*=*=*=*=*=*=*=*=')"
      ],
      "metadata": {
        "id": "ScnvKYxx-sFk"
      },
      "execution_count": null,
      "outputs": []
    },
    {
      "cell_type": "markdown",
      "source": [
        "Let us remove empty predictions (but not false empty predictions)"
      ],
      "metadata": {
        "id": "chMMaS3wKt6D"
      }
    },
    {
      "cell_type": "code",
      "source": [
        "text_list_ent = []\n",
        "for i in text_list:\n",
        "  # if (re.findall('\\nModel true: \\[]', i) == []) and (re.findall('\\nModel predict: \\[]', i) == []) or (re.findall('\\nModel true: \\[]', i) != []) and (re.findall('\\nModel predict: \\[]', i) == []) or (re.findall('\\nModel true: \\[]', i) == []) and (re.findall('\\nModel predict: \\[]', i) != []):\n",
        "    text_list_ent.append(i)\n"
      ],
      "metadata": {
        "id": "dCZX4RHc-sIL"
      },
      "execution_count": null,
      "outputs": []
    },
    {
      "cell_type": "markdown",
      "source": [
        "Number of sentences "
      ],
      "metadata": {
        "id": "1Oz-d2_KKVHq"
      }
    },
    {
      "cell_type": "code",
      "source": [
        "len(text_list)//29"
      ],
      "metadata": {
        "colab": {
          "base_uri": "https://localhost:8080/"
        },
        "id": "58n3tcuHKHkL",
        "outputId": "1e1956c5-29c6-4446-fe43-b8fef4d870e4"
      },
      "execution_count": null,
      "outputs": [
        {
          "output_type": "execute_result",
          "data": {
            "text/plain": [
              "1126"
            ]
          },
          "metadata": {},
          "execution_count": 6
        }
      ]
    },
    {
      "cell_type": "markdown",
      "source": [
        "Create list of entity names"
      ],
      "metadata": {
        "id": "u3zTCe2PNk0D"
      }
    },
    {
      "cell_type": "code",
      "source": [
        "entities = {\"PERSON\": \"Найди в тексте обозначение человека, человеческого существа, имени или фамилии\",\n",
        "\"PROFESSION\": \"Найти в тексте обозначение рода трудовой деятельности человека, обозначение труда или занятия, за которое человек получает оплату\",\n",
        "\"ORGANIZATION\": \"Найди в тексте обозначение производственного образования, сформированного из людей, деятельность которых координируется руководством для достижения общей цели\",\n",
        "\"EVENT\": \"Найди в тексте обозначение значимого явления, которое произошло в некоторый момент времени\",\n",
        "\"DATE\": \"Найди в тексте временную запись, включающую в себя число месяца, месяц или год\",\n",
        "\"COUNTRY\": \"Найди в тексте обозначение территории, имеющей политические, географические, культурные и исторические границы\",\n",
        "\"CITY\": \"Найди в тексте обозначение крупного населенного пункта, административного, торгового, промышленного и культурного центра\",\n",
        "\"NUMBER\": \"Найди в тексте обозначение количества или обозначение математической величины, при помощи которой производится счет\",\n",
        "\"AGE\": \"Найди в тексте обозначение возраста или обозначение количества лет\",\n",
        "\"ORDINAL\": \"Найди в тексте обозначение порядкового номера\",\n",
        "\"AWARD\": \"Найди в тексте обозначение приза, получаемого победителем соревнования, или обозначение награды за успехи\",\n",
        "\"STATE_OR_PROVINCE\": \"Найди в тексте обозначение территориальной административной единицы в пределах государства или страны\",\n",
        "\"NATIONALITY\": \"Найди в тексте обозначение принадлежности индивида к национальной или этнической группе, народности, нации, обозначение гражданства или юридической принадлежности к тому или иному государству\",\n",
        "\"FACILITY\": \"Найди в тексте обозначение коммерческого или административного здания\",\n",
        "\"LAW\": \"Найди в тексте обозначение правила или нормативно-правового акта, который принимается законодательным органом государственной власти и регулирует определённые общественные отношения\",\n",
        "\"WORK_OF_ART\": \"Найди в тексте обозначение произведения художественного творчества или иного материального продукта деятельности человека, имеющего определенную ценность\",\n",
        "\"CRIME\": \"Найди в тексте обозначение правонарушения или общественно опасного деяния, совершение которого влечёт применение мер уголовной ответственности\",\n",
        "\"DISEASE\": \"Найди в тексте обозначение расстройства здоровья, нарушающего деятельность организма или его отдельных органов\",\n",
        "\"LOCATION\": \"Найди в тексте обозначение места или местоположения какого-либо объекта или предмета\", \n",
        "\"IDEOLOGY\": \"Найди в тексте обозначение системы взглядов и идей, характеризующих какую-либо социальную группу, класс, политическую партию или сообщество\",\n",
        "\"PRODUCT\": \"Найди в тексте обозначение какого-либо предмета или результата человеческого труда, например, обработки, переработки, исследования\",\n",
        "\"PENALTY\": \"Найди в тексте обозначение меры воздействия на того, кто совершил правонарушение или преступление\",\n",
        "\"TIME\": \"Найди в тексте обозначение продолжительности, длительности чего-либо, измеряемого секундами, минутами, часами\",\n",
        "\"MONEY\": \"Найди в тексте обозначение меры стоимости товаров или услуг, используемой для обмена\",\n",
        "\"DISTRICT\": \"Найди в тексте обозначение административно-территориальной единицы или обозначение части города и страны\",\n",
        "\"RELIGION\": \"Найди в тексте обозначение системы взглядов, обусловленной верой в сверхъестественное, включающей в себя свод моральных норм и обрядов, и объединяющей людей в институты\",\n",
        "\"PERCENT\": \"Найди в тексте обозначение одной сотой части чего-либо, используемой для обозначения доли чего-либо по отношению к целому\",\n",
        "\"LANGUAGE\": \"Найди в тексте обозначение сложной знаковой системы, естественно или искусственно созданной для коммуникации между людьми\",\n",
        "\"FAMILY\": \"Найди в тексте обозначение основанной на браке или кровном родстве малой группы людей, члены которой связаны общностью быта, взаимной ответственностью и взаимопомощью\"\n",
        " }"
      ],
      "metadata": {
        "id": "kY-OkTrYPmp5"
      },
      "execution_count": null,
      "outputs": []
    },
    {
      "cell_type": "code",
      "source": [
        "entity_names = entities.keys()"
      ],
      "metadata": {
        "id": "5s-b7kOULBQN"
      },
      "execution_count": null,
      "outputs": []
    },
    {
      "cell_type": "markdown",
      "source": [
        "Let us count how many entities of each type were found (number of predictions)"
      ],
      "metadata": {
        "id": "kHC3iNrqNph3"
      }
    },
    {
      "cell_type": "code",
      "source": [
        "text_list_count = []\n",
        "for i in text_list:\n",
        "  # if (re.findall('\\nModel predict: \\[]', i) == []):\n",
        "    text_list_count.append(i)"
      ],
      "metadata": {
        "id": "jIXJFGsHgn1N"
      },
      "execution_count": null,
      "outputs": []
    },
    {
      "cell_type": "code",
      "source": [
        "entity_count = {}\n",
        "for i in entity_names:\n",
        "  entity_count[i] = 0\n",
        "\n",
        "for i in text_list_count:\n",
        "  for j in entity_names:\n",
        "    if re.findall(j, i) != []:\n",
        "      entity_count[j] += 1\n"
      ],
      "metadata": {
        "id": "alFmpi8-K7jP"
      },
      "execution_count": null,
      "outputs": []
    },
    {
      "cell_type": "code",
      "source": [
        "\n",
        "print(sorted(entity_count.items(), key =\n",
        "             lambda kv:(kv[1], kv[0])))   "
      ],
      "metadata": {
        "colab": {
          "base_uri": "https://localhost:8080/"
        },
        "id": "5OApqtygNP73",
        "outputId": "c2a25674-502a-48fa-e32a-669ebaac03ba"
      },
      "execution_count": null,
      "outputs": [
        {
          "output_type": "stream",
          "name": "stdout",
          "text": [
            "[('PERCENT', 7), ('LANGUAGE', 8), ('FAMILY', 14), ('PENALTY', 15), ('RELIGION', 17), ('DISTRICT', 28), ('LAW', 33), ('MONEY', 34), ('CRIME', 41), ('TIME', 41), ('IDEOLOGY', 43), ('DISEASE', 46), ('LOCATION', 54), ('FACILITY', 57), ('PRODUCT', 59), ('NATIONALITY', 64), ('WORK_OF_ART', 64), ('AWARD', 66), ('ORDINAL', 98), ('STATE_OR_PROVINCE', 106), ('AGE', 137), ('NUMBER', 168), ('CITY', 240), ('COUNTRY', 322), ('ORGANIZATION', 440), ('DATE', 446), ('PROFESSION', 457), ('EVENT', 473), ('PERSON', 601)]\n"
          ]
        }
      ]
    },
    {
      "cell_type": "code",
      "source": [
        "sum(entity_count.values())"
      ],
      "metadata": {
        "colab": {
          "base_uri": "https://localhost:8080/"
        },
        "id": "cokb9y8EGy4e",
        "outputId": "9960747e-7836-4671-da0b-534578ae94dc"
      },
      "execution_count": null,
      "outputs": [
        {
          "output_type": "execute_result",
          "data": {
            "text/plain": [
              "4179"
            ]
          },
          "metadata": {},
          "execution_count": 12
        }
      ]
    },
    {
      "cell_type": "markdown",
      "source": [
        "Create a plot"
      ],
      "metadata": {
        "id": "s0swvqHhOHFw"
      }
    },
    {
      "cell_type": "code",
      "source": [
        "import matplotlib.pyplot as plt\n",
        "\n",
        "names = list(entity_count.keys())\n",
        "names[11] = 'STAT_OR_PROV'\n",
        "values = list(entity_count.values())\n",
        "\n",
        "plt.bar(range(len(entity_count)), values, tick_label=names)\n",
        "plt.xticks(range(len(entity_count)), names, rotation='vertical')\n",
        "plt.show()"
      ],
      "metadata": {
        "colab": {
          "base_uri": "https://localhost:8080/",
          "height": 332
        },
        "id": "mApPcL3nNRel",
        "outputId": "6d8997af-821d-4a11-e6ba-f8e1bc6c0ff3"
      },
      "execution_count": null,
      "outputs": [
        {
          "output_type": "display_data",
          "data": {
            "text/plain": [
              "<Figure size 432x288 with 1 Axes>"
            ],
            "image/png": "[encoded data removed]"
          },
          "metadata": {
            "needs_background": "light"
          }
        }
      ]
    },
    {
      "cell_type": "markdown",
      "source": [
        "We can see, that top 5 entities found are: Person, Profession, Organization, Event, Date"
      ],
      "metadata": {
        "id": "TIEN2UdpOq1h"
      }
    },
    {
      "cell_type": "markdown",
      "source": [
        "Let us look more close. We will create a dictionary of Pandas dataframes for every entity type.\n",
        "Each datafrane contains following information:\n",
        "Context, True (correct answer), Predict (prediction of model)"
      ],
      "metadata": {
        "id": "xE6PJwakPCFB"
      }
    },
    {
      "cell_type": "code",
      "source": [
        "entity_dict = {}\n",
        "for i in entity_names:\n",
        "  entity_dict[i] = []\n",
        "  \n",
        "for i in text_list_ent:\n",
        "  for j in entity_names:\n",
        "    if re.findall(j, i) != []:\n",
        "      entity_dict[j].append(i)"
      ],
      "metadata": {
        "id": "Aq5ePNFvO6DM"
      },
      "execution_count": null,
      "outputs": []
    },
    {
      "cell_type": "code",
      "source": [
        "for elem in entities.keys():\n",
        "  for i, el in enumerate(entity_dict[elem]):\n",
        "   entity_dict[elem][i] = el[(len(entities[elem])+14):]"
      ],
      "metadata": {
        "id": "c7k9NAaSDsL5"
      },
      "execution_count": null,
      "outputs": []
    },
    {
      "cell_type": "code",
      "source": [
        "# for i, el in enumerate(entity_dict['FAMILY']):\n",
        "#   print(entity_dict['FAMILY'][i])\n"
      ],
      "metadata": {
        "id": "C5uYYhuyP6oi"
      },
      "execution_count": null,
      "outputs": []
    },
    {
      "cell_type": "code",
      "source": [
        "replace = []\n",
        "for elem in entity_dict.keys():\n",
        "  for i, el in enumerate(entity_dict[elem]):\n",
        "    replace = re.findall('%%.*?\\n', el)\n",
        "    new_str = el\n",
        "    for j in replace:\n",
        "        new_str = new_str.replace(j,'')\n",
        "    entity_dict[elem][i] = new_str\n",
        "\n"
      ],
      "metadata": {
        "id": "749grdIf98gH"
      },
      "execution_count": null,
      "outputs": []
    },
    {
      "cell_type": "code",
      "source": [
        "for el in entity_dict:\n",
        "  for idx, elem in enumerate(entity_dict[el]):\n",
        "    entity_dict[el][idx] = elem.split('\\n')[:-1]\n",
        "  # for j in i.split('\\n'):\n",
        "  #   print('-',j)"
      ],
      "metadata": {
        "id": "PdsUQL8e_xvM"
      },
      "execution_count": null,
      "outputs": []
    },
    {
      "cell_type": "code",
      "source": [
        "import ast\n",
        "import pandas as pd\n",
        "pd.set_option('display.max_rows', 100)\n",
        "res = {}\n",
        "for key in entity_dict:\n",
        "  df = pd.DataFrame(columns=['context', 'true', 'predict'])\n",
        "  for el in entity_dict[key]:\n",
        "    el[1] = el[1].replace('Model true: ','')\n",
        "    el[2] = el[2].replace('Model predict: ','')\n",
        "\n",
        "    el[1] = ast.literal_eval(el[1])\n",
        "    el[2] = ast.literal_eval(el[2])\n",
        "    df = df.append({'context':el[0], 'true': el[1], 'predict':el[2]}, ignore_index=True)\n",
        "  res[key] = df\n"
      ],
      "metadata": {
        "id": "5XcdYEZbGlJc"
      },
      "execution_count": null,
      "outputs": []
    },
    {
      "cell_type": "code",
      "source": [
        "# res['LAW'].iloc[30]['predict']\n",
        "res['PERSON']"
      ],
      "metadata": {
        "colab": {
          "base_uri": "https://localhost:8080/",
          "height": 624
        },
        "id": "PZwpL9aPr08Q",
        "outputId": "a0d5e791-5da4-4035-c16c-108a1755b4c8"
      },
      "execution_count": null,
      "outputs": [
        {
          "output_type": "execute_result",
          "data": {
            "text/plain": [
              "                                               context  \\\n",
              "0     замминистра здравоохранения великобритании за...   \n",
              "1     с тех пор доррис провела встречи с сотнями лю...   \n",
              "2     буерак выпустил альбом репост модерн буерак 5...   \n",
              "3     « буерак » - россииская постпанк группа, осно...   \n",
              "4     умер эдуард лимонов эдуард лимонов во вторник...   \n",
              "..                                                 ...   \n",
              "596   в декабре 2011 года президентом италии джордж...   \n",
              "597   секретом своего долголетия эмма считала употр...   \n",
              "598                                  морано заверила :   \n",
              "599   празднование образования кнр, 2009 год в кита...   \n",
              "600   « манифест » можно было [ https : / / www. yo...   \n",
              "\n",
              "                                                  true  \\\n",
              "0    [(25, 29, надин доррис, PERSON), (36, 40, нади...   \n",
              "1    [(18, 20, доррис, PERSON), (33, 38, борис джон...   \n",
              "2                                                   []   \n",
              "3    [(35, 39, александром макеевым, PERSON), (43, ...   \n",
              "4    [(16, 21, эдуард лимонов, PERSON), (21, 26, эд...   \n",
              "..                                                 ...   \n",
              "596             [(22, 28, джорджо наполитано, PERSON)]   \n",
              "597                           [(18, 20, эмма, PERSON)]   \n",
              "598                         [(15, 17, морано, PERSON)]   \n",
              "599  [(48, 52, карла маркса, PERSON), (53, 59, фрид...   \n",
              "600                   [(52, 56, си цзиньпина, PERSON)]   \n",
              "\n",
              "                                               predict  \n",
              "0    [(25, 29, надин доррис, PERSON), (36, 40, нади...  \n",
              "1    [(18, 20, доррис, PERSON), (33, 38, борис джон...  \n",
              "2    [(15, 18, буерак, PERSON), (20, 26, репост мод...  \n",
              "3    [(35, 39, александром макеевым, PERSON), (43, ...  \n",
              "4    [(16, 21, эдуард лимонов, PERSON), (21, 26, эд...  \n",
              "..                                                 ...  \n",
              "596             [(22, 28, джорджо наполитано, PERSON)]  \n",
              "597                           [(18, 20, эмма, PERSON)]  \n",
              "598                         [(15, 17, морано, PERSON)]  \n",
              "599  [(48, 52, карла маркса, PERSON), (53, 59, фрид...  \n",
              "600  [(52, 56, си цзиньпина, PERSON), (53, 56, цзин...  \n",
              "\n",
              "[601 rows x 3 columns]"
            ],
            "text/html": [
              "\n",
              "  <div id=\"df-845f1b1b-75da-4bc3-b5f5-76215598675e\">\n",
              "    <div class=\"colab-df-container\">\n",
              "      <div>\n",
              "<style scoped>\n",
              "    .dataframe tbody tr th:only-of-type {\n",
              "        vertical-align: middle;\n",
              "    }\n",
              "\n",
              "    .dataframe tbody tr th {\n",
              "        vertical-align: top;\n",
              "    }\n",
              "\n",
              "    .dataframe thead th {\n",
              "        text-align: right;\n",
              "    }\n",
              "</style>\n",
              "<table border=\"1\" class=\"dataframe\">\n",
              "  <thead>\n",
              "    <tr style=\"text-align: right;\">\n",
              "      <th></th>\n",
              "      <th>context</th>\n",
              "      <th>true</th>\n",
              "      <th>predict</th>\n",
              "    </tr>\n",
              "  </thead>\n",
              "  <tbody>\n",
              "    <tr>\n",
              "      <th>0</th>\n",
              "      <td>замминистра здравоохранения великобритании за...</td>\n",
              "      <td>[(25, 29, надин доррис, PERSON), (36, 40, нади...</td>\n",
              "      <td>[(25, 29, надин доррис, PERSON), (36, 40, нади...</td>\n",
              "    </tr>\n",
              "    <tr>\n",
              "      <th>1</th>\n",
              "      <td>с тех пор доррис провела встречи с сотнями лю...</td>\n",
              "      <td>[(18, 20, доррис, PERSON), (33, 38, борис джон...</td>\n",
              "      <td>[(18, 20, доррис, PERSON), (33, 38, борис джон...</td>\n",
              "    </tr>\n",
              "    <tr>\n",
              "      <th>2</th>\n",
              "      <td>буерак выпустил альбом репост модерн буерак 5...</td>\n",
              "      <td>[]</td>\n",
              "      <td>[(15, 18, буерак, PERSON), (20, 26, репост мод...</td>\n",
              "    </tr>\n",
              "    <tr>\n",
              "      <th>3</th>\n",
              "      <td>« буерак » - россииская постпанк группа, осно...</td>\n",
              "      <td>[(35, 39, александром макеевым, PERSON), (43, ...</td>\n",
              "      <td>[(35, 39, александром макеевым, PERSON), (43, ...</td>\n",
              "    </tr>\n",
              "    <tr>\n",
              "      <th>4</th>\n",
              "      <td>умер эдуард лимонов эдуард лимонов во вторник...</td>\n",
              "      <td>[(16, 21, эдуард лимонов, PERSON), (21, 26, эд...</td>\n",
              "      <td>[(16, 21, эдуард лимонов, PERSON), (21, 26, эд...</td>\n",
              "    </tr>\n",
              "    <tr>\n",
              "      <th>...</th>\n",
              "      <td>...</td>\n",
              "      <td>...</td>\n",
              "      <td>...</td>\n",
              "    </tr>\n",
              "    <tr>\n",
              "      <th>596</th>\n",
              "      <td>в декабре 2011 года президентом италии джордж...</td>\n",
              "      <td>[(22, 28, джорджо наполитано, PERSON)]</td>\n",
              "      <td>[(22, 28, джорджо наполитано, PERSON)]</td>\n",
              "    </tr>\n",
              "    <tr>\n",
              "      <th>597</th>\n",
              "      <td>секретом своего долголетия эмма считала употр...</td>\n",
              "      <td>[(18, 20, эмма, PERSON)]</td>\n",
              "      <td>[(18, 20, эмма, PERSON)]</td>\n",
              "    </tr>\n",
              "    <tr>\n",
              "      <th>598</th>\n",
              "      <td>морано заверила :</td>\n",
              "      <td>[(15, 17, морано, PERSON)]</td>\n",
              "      <td>[(15, 17, морано, PERSON)]</td>\n",
              "    </tr>\n",
              "    <tr>\n",
              "      <th>599</th>\n",
              "      <td>празднование образования кнр, 2009 год в кита...</td>\n",
              "      <td>[(48, 52, карла маркса, PERSON), (53, 59, фрид...</td>\n",
              "      <td>[(48, 52, карла маркса, PERSON), (53, 59, фрид...</td>\n",
              "    </tr>\n",
              "    <tr>\n",
              "      <th>600</th>\n",
              "      <td>« манифест » можно было [ https : / / www. yo...</td>\n",
              "      <td>[(52, 56, си цзиньпина, PERSON)]</td>\n",
              "      <td>[(52, 56, си цзиньпина, PERSON), (53, 56, цзин...</td>\n",
              "    </tr>\n",
              "  </tbody>\n",
              "</table>\n",
              "<p>601 rows × 3 columns</p>\n",
              "</div>\n",
              "      <button class=\"colab-df-convert\" onclick=\"convertToInteractive('df-845f1b1b-75da-4bc3-b5f5-76215598675e')\"\n",
              "              title=\"Convert this dataframe to an interactive table.\"\n",
              "              style=\"display:none;\">\n",
              "        \n",
              "  <svg xmlns=\"http://www.w3.org/2000/svg\" height=\"24px\"viewBox=\"0 0 24 24\"\n",
              "       width=\"24px\">\n",
              "    <path d=\"M0 0h24v24H0V0z\" fill=\"none\"/>\n",
              "    <path d=\"M18.56 5.44l.94 2.06.94-2.06 2.06-.94-2.06-.94-.94-2.06-.94 2.06-2.06.94zm-11 1L8.5 8.5l.94-2.06 2.06-.94-2.06-.94L8.5 2.5l-.94 2.06-2.06.94zm10 10l.94 2.06.94-2.06 2.06-.94-2.06-.94-.94-2.06-.94 2.06-2.06.94z\"/><path d=\"M17.41 7.96l-1.37-1.37c-.4-.4-.92-.59-1.43-.59-.52 0-1.04.2-1.43.59L10.3 9.45l-7.72 7.72c-.78.78-.78 2.05 0 2.83L4 21.41c.39.39.9.59 1.41.59.51 0 1.02-.2 1.41-.59l7.78-7.78 2.81-2.81c.8-.78.8-2.07 0-2.86zM5.41 20L4 18.59l7.72-7.72 1.47 1.35L5.41 20z\"/>\n",
              "  </svg>\n",
              "      </button>\n",
              "      \n",
              "  <style>\n",
              "    .colab-df-container {\n",
              "      display:flex;\n",
              "      flex-wrap:wrap;\n",
              "      gap: 12px;\n",
              "    }\n",
              "\n",
              "    .colab-df-convert {\n",
              "      background-color: #E8F0FE;\n",
              "      border: none;\n",
              "      border-radius: 50%;\n",
              "      cursor: pointer;\n",
              "      display: none;\n",
              "      fill: #1967D2;\n",
              "      height: 32px;\n",
              "      padding: 0 0 0 0;\n",
              "      width: 32px;\n",
              "    }\n",
              "\n",
              "    .colab-df-convert:hover {\n",
              "      background-color: #E2EBFA;\n",
              "      box-shadow: 0px 1px 2px rgba(60, 64, 67, 0.3), 0px 1px 3px 1px rgba(60, 64, 67, 0.15);\n",
              "      fill: #174EA6;\n",
              "    }\n",
              "\n",
              "    [theme=dark] .colab-df-convert {\n",
              "      background-color: #3B4455;\n",
              "      fill: #D2E3FC;\n",
              "    }\n",
              "\n",
              "    [theme=dark] .colab-df-convert:hover {\n",
              "      background-color: #434B5C;\n",
              "      box-shadow: 0px 1px 3px 1px rgba(0, 0, 0, 0.15);\n",
              "      filter: drop-shadow(0px 1px 2px rgba(0, 0, 0, 0.3));\n",
              "      fill: #FFFFFF;\n",
              "    }\n",
              "  </style>\n",
              "\n",
              "      <script>\n",
              "        const buttonEl =\n",
              "          document.querySelector('#df-845f1b1b-75da-4bc3-b5f5-76215598675e button.colab-df-convert');\n",
              "        buttonEl.style.display =\n",
              "          google.colab.kernel.accessAllowed ? 'block' : 'none';\n",
              "\n",
              "        async function convertToInteractive(key) {\n",
              "          const element = document.querySelector('#df-845f1b1b-75da-4bc3-b5f5-76215598675e');\n",
              "          const dataTable =\n",
              "            await google.colab.kernel.invokeFunction('convertToInteractive',\n",
              "                                                     [key], {});\n",
              "          if (!dataTable) return;\n",
              "\n",
              "          const docLinkHtml = 'Like what you see? Visit the ' +\n",
              "            '<a target=\"_blank\" href=https://colab.research.google.com/notebooks/data_table.ipynb>data table notebook</a>'\n",
              "            + ' to learn more about interactive tables.';\n",
              "          element.innerHTML = '';\n",
              "          dataTable['output_type'] = 'display_data';\n",
              "          await google.colab.output.renderOutput(dataTable, element);\n",
              "          const docLink = document.createElement('div');\n",
              "          docLink.innerHTML = docLinkHtml;\n",
              "          element.appendChild(docLink);\n",
              "        }\n",
              "      </script>\n",
              "    </div>\n",
              "  </div>\n",
              "  "
            ]
          },
          "metadata": {},
          "execution_count": 47
        }
      ]
    },
    {
      "cell_type": "code",
      "source": [
        ""
      ],
      "metadata": {
        "id": "nsnQRopuzeHa"
      },
      "execution_count": null,
      "outputs": []
    },
    {
      "cell_type": "markdown",
      "source": [
        "Let us make a plot of dependency between length (number of words) of entity and similarity with true answer"
      ],
      "metadata": {
        "id": "pD5jglV3QYaf"
      }
    },
    {
      "cell_type": "code",
      "source": [
        "new_result_dict = res\n"
      ],
      "metadata": {
        "id": "lFTJSzqEzeKh"
      },
      "execution_count": null,
      "outputs": []
    },
    {
      "cell_type": "code",
      "source": [
        "import numpy as np\n",
        "for key in new_result_dict:\n",
        "  new_result_dict[key]['len'] = np.empty((len(new_result_dict[key]), 0)).tolist()\n",
        "  new_result_dict[key]['similarity'] = np.empty((len(new_result_dict[key]), 0)).tolist()\n",
        "  # new_result_dict[key] = new_result_dict[key].drop('len + similarity', axis = 1)"
      ],
      "metadata": {
        "id": "ISjb8supzeNq"
      },
      "execution_count": null,
      "outputs": []
    },
    {
      "cell_type": "code",
      "source": [
        "from difflib import SequenceMatcher\n",
        "\n",
        "def similar(a, b):\n",
        "    return SequenceMatcher(None, a, b).ratio()\n",
        "\n",
        "\n",
        "for key in new_result_dict:\n",
        "  for i in range(len(new_result_dict[key])):\n",
        "    for elem in new_result_dict[key].iloc[i]['predict']:\n",
        "      if new_result_dict[key].iloc[i]['true'] != []:\n",
        "        if 1<=len(elem[2].split())<= 3:\n",
        "          new_result_dict[key].iloc[i]['len'].append('1-3')\n",
        "          new_result_dict[key].iloc[i]['similarity'].append(SequenceMatcher(None, new_result_dict[key].iloc[i]['true'][0][2], elem[2]).ratio())\n",
        "\n",
        "        if 4<=len(elem[2].split())<=7:\n",
        "          new_result_dict[key].iloc[i]['len'].append('4-7')\n",
        "          new_result_dict[key].iloc[i]['similarity'].append(SequenceMatcher(None, new_result_dict[key].iloc[i]['true'][0][2], elem[2]).ratio())\n",
        "\n",
        "        if 7<len(elem[2].split())<=10:\n",
        "          new_result_dict[key].iloc[i]['len'].append('8-10')\n",
        "          new_result_dict[key].iloc[i]['similarity'].append(SequenceMatcher(None, new_result_dict[key].iloc[i]['true'][0][2], elem[2]).ratio())\n",
        "\n",
        "        if 10<len(elem[2].split()):\n",
        "          new_result_dict[key].iloc[i]['len'].append('over 10')\n",
        "          new_result_dict[key].iloc[i]['similarity'].append(SequenceMatcher(None, new_result_dict[key].iloc[i]['true'][0][2], elem[2]).ratio())\n"
      ],
      "metadata": {
        "id": "AGTMTrCWzxeO"
      },
      "execution_count": null,
      "outputs": []
    },
    {
      "cell_type": "code",
      "source": [
        "\n",
        "PERsim_1_3 = []\n",
        "PERsim_4_7 = []\n",
        "PERsim_8_10 = []\n",
        "PERsim_over_10 = []\n",
        "\n",
        "ORGsim_1_3 = []\n",
        "ORGsim_4_7 = []\n",
        "ORGsim_8_10 = []\n",
        "ORGsim_over_10 = []\n",
        "\n",
        "CONsim_1_3 = []\n",
        "CONsim_4_7 = []\n",
        "CONsim_8_10 = []\n",
        "CONsim_over_10 = []\n",
        "\n",
        "PROFsim_1_3 = []\n",
        "PROFsim_4_7 = []\n",
        "PROFsim_8_10 = []\n",
        "PROFsim_over_10 = []\n",
        "\n",
        "DATsim_1_3 = []\n",
        "DATsim_4_7 = []\n",
        "DATsim_8_10 = []\n",
        "DATsim_over_10 = []\n",
        "\n",
        "# for key in new_result_dict:\n",
        "for i in range(len(new_result_dict['PERSON'])):\n",
        "  if new_result_dict['PERSON'].iloc[i]['len'] != []:\n",
        "    for j, elem in enumerate(new_result_dict['PERSON'].iloc[i]['len']):\n",
        "        if elem == '1-3':\n",
        "          PERsim_1_3.append(new_result_dict['PERSON'].iloc[i]['similarity'][j])\n",
        "\n",
        "        if elem == '4-7':\n",
        "          PERsim_4_7.append(new_result_dict['PERSON'].iloc[i]['similarity'][j])\n",
        "\n",
        "        if elem == '8-10':\n",
        "          PERsim_8_10.append(new_result_dict['PERSON'].iloc[i]['similarity'][j])\n",
        "\n",
        "        if elem == 'over 10':\n",
        "          PERsim_over_10.append(new_result_dict['PERSON'].iloc[i]['similarity'][j])\n",
        "\n",
        "\n",
        "for i in range(len(new_result_dict['ORGANIZATION'])):\n",
        "  if new_result_dict['ORGANIZATION'].iloc[i]['len'] != []:\n",
        "    for j, elem in enumerate(new_result_dict['ORGANIZATION'].iloc[i]['len']):\n",
        "        if elem == '1-3':\n",
        "          ORGsim_1_3.append(new_result_dict['ORGANIZATION'].iloc[i]['similarity'][j])\n",
        "\n",
        "        if elem == '4-7':\n",
        "          ORGsim_4_7.append(new_result_dict['ORGANIZATION'].iloc[i]['similarity'][j])\n",
        "\n",
        "        if elem == '8-10':\n",
        "          ORGsim_8_10.append(new_result_dict['ORGANIZATION'].iloc[i]['similarity'][j])\n",
        "\n",
        "        if elem == 'over 10':\n",
        "          ORGsim_over_10.append(new_result_dict['ORGANIZATION'].iloc[i]['similarity'][j])\n",
        "\n"
      ],
      "metadata": {
        "id": "ibKAP_Mo7DU3"
      },
      "execution_count": null,
      "outputs": []
    },
    {
      "cell_type": "code",
      "source": [
        "for i in range(len(new_result_dict['PROFESSION'])):\n",
        "  if new_result_dict['PROFESSION'].iloc[i]['len'] != []:\n",
        "    for j, elem in enumerate(new_result_dict['PROFESSION'].iloc[i]['len']):\n",
        "        if elem == '1-3':\n",
        "          PROFsim_1_3.append(new_result_dict['PROFESSION'].iloc[i]['similarity'][j])\n",
        "\n",
        "        if elem == '4-7':\n",
        "          PROFsim_4_7.append(new_result_dict['PROFESSION'].iloc[i]['similarity'][j])\n",
        "\n",
        "        if elem == '8-10':\n",
        "          PROFsim_8_10.append(new_result_dict['PROFESSION'].iloc[i]['similarity'][j])\n",
        "\n",
        "        if elem == 'over 10':\n",
        "          PROFsim_over_10.append(new_result_dict['PROFESSION'].iloc[i]['similarity'][j])\n",
        "\n",
        "\n",
        "for i in range(len(new_result_dict['DATE'])):\n",
        "  if new_result_dict['DATE'].iloc[i]['len'] != []:\n",
        "    for j, elem in enumerate(new_result_dict['DATE'].iloc[i]['len']):\n",
        "        if elem == '1-3':\n",
        "          DATsim_1_3.append(new_result_dict['DATE'].iloc[i]['similarity'][j])\n",
        "\n",
        "        if elem == '4-7':\n",
        "          DATsim_4_7.append(new_result_dict['DATE'].iloc[i]['similarity'][j])\n",
        "\n",
        "        if elem == '8-10':\n",
        "          DATsim_8_10.append(new_result_dict['DATE'].iloc[i]['similarity'][j])\n",
        "\n",
        "        if elem == 'over 10':\n",
        "          DATsim_over_10.append(new_result_dict['DATE'].iloc[i]['similarity'][j])\n",
        "\n",
        "\n",
        "for i in range(len(new_result_dict['COUNTRY'])):\n",
        "  if new_result_dict['COUNTRY'].iloc[i]['len'] != []:\n",
        "    for j, elem in enumerate(new_result_dict['COUNTRY'].iloc[i]['len']):\n",
        "        if elem == '1-3':\n",
        "          CONsim_1_3.append(new_result_dict['COUNTRY'].iloc[i]['similarity'][j])\n",
        "\n",
        "        if elem == '4-7':\n",
        "          CONsim_4_7.append(new_result_dict['COUNTRY'].iloc[i]['similarity'][j])\n",
        "\n",
        "        if elem == '8-10':\n",
        "          CONsim_8_10.append(new_result_dict['COUNTRY'].iloc[i]['similarity'][j])\n",
        "\n",
        "        if elem == 'over 10':\n",
        "          CONsim_over_10.append(new_result_dict['COUNTRY'].iloc[i]['similarity'][j])\n"
      ],
      "metadata": {
        "id": "7MTg1EQ2HfaH"
      },
      "execution_count": null,
      "outputs": []
    },
    {
      "cell_type": "code",
      "source": [
        "PER1_3 = sum(PERsim_1_3)/len(PERsim_1_3)\n",
        "PER4_7 = sum(PERsim_4_7)/len(PERsim_4_7)\n",
        "PER8_10 =sum(PERsim_8_10)/len(PERsim_8_10)\n",
        "PER_OVER_10 = sum(PERsim_over_10)/len(PERsim_over_10)\n"
      ],
      "metadata": {
        "id": "HCUHp4D7BThn"
      },
      "execution_count": null,
      "outputs": []
    },
    {
      "cell_type": "code",
      "source": [
        "PROF1_3 = sum(PROFsim_1_3)/len(PROFsim_1_3)\n",
        "PROF4_7 = sum(PROFsim_4_7)/len(PROFsim_4_7)\n",
        "PROF8_10 = sum(PROFsim_8_10)/len(PROFsim_8_10)\n",
        "PROF_OVER_10 = sum(PROFsim_over_10)/len(PROFsim_over_10)\n"
      ],
      "metadata": {
        "id": "CTHMyFKiI_Qt"
      },
      "execution_count": null,
      "outputs": []
    },
    {
      "cell_type": "code",
      "source": [
        "CON1_3 = sum(CONsim_1_3)/len(CONsim_1_3)\n",
        "CON4_7 = sum(CONsim_4_7)/len(CONsim_4_7)\n",
        "CON8_10 = sum(CONsim_8_10)/len(CONsim_8_10)\n",
        "CON_OVER_10 = sum(CONsim_over_10)/len(CONsim_over_10)"
      ],
      "metadata": {
        "id": "iRx1RgN4I_W6"
      },
      "execution_count": null,
      "outputs": []
    },
    {
      "cell_type": "code",
      "source": [
        "ORG1_3 = sum(ORGsim_1_3)/len(ORGsim_1_3)\n",
        "ORG4_7 = sum(ORGsim_4_7)/len(ORGsim_4_7)\n",
        "ORG8_10 = sum(ORGsim_8_10)/len(ORGsim_8_10)\n",
        "ORG_OVER_10 = sum(ORGsim_over_10)/len(ORGsim_over_10)"
      ],
      "metadata": {
        "id": "8HKSbVzcI_aj"
      },
      "execution_count": null,
      "outputs": []
    },
    {
      "cell_type": "code",
      "source": [
        "DAT1_3 = sum(DATsim_1_3)/len(DATsim_1_3)\n",
        "DAT4_7 = sum(DATsim_4_7)/len(DATsim_4_7)\n",
        "DAT8_10 = sum(DATsim_8_10)/len(DATsim_8_10)\n",
        "DAT_OVER_10 = sum(DATsim_over_10)/len(DATsim_over_10)"
      ],
      "metadata": {
        "id": "C70LjtBCI_7K"
      },
      "execution_count": null,
      "outputs": []
    },
    {
      "cell_type": "code",
      "source": [
        "\n",
        "\n",
        "list1 = [PER1_3, PER4_7, PER8_10, PER_OVER_10]\n",
        "list2 = [ORG1_3, ORG4_7, ORG8_10, ORG_OVER_10]\n",
        "list3 = [PROF1_3, PROF4_7, PROF8_10, PROF_OVER_10]\n",
        "list4 = [CON1_3, CON4_7, CON8_10, CON_OVER_10]\n",
        "list5 = [DAT1_3, DAT4_7, DAT8_10, DAT_OVER_10]\n",
        "\n",
        "df = pd.DataFrame(list(zip(list1, list2, list3, list4, list5)), index = ['1-3 words', '4-7 words', '8-10 words', 'over 10 words'],\n",
        "               columns =['PERSON', 'ORGANIZATION', 'PROFESSION', 'COUNTRY', 'DATE'])\n"
      ],
      "metadata": {
        "id": "hi9h5cyJQ0Jw"
      },
      "execution_count": null,
      "outputs": []
    },
    {
      "cell_type": "code",
      "source": [
        "df"
      ],
      "metadata": {
        "colab": {
          "base_uri": "https://localhost:8080/",
          "height": 175
        },
        "id": "2hpJQXByDf9A",
        "outputId": "a1fee76a-6e28-4720-f842-e0ead2089948"
      },
      "execution_count": null,
      "outputs": [
        {
          "output_type": "execute_result",
          "data": {
            "text/plain": [
              "                 PERSON  ORGANIZATION  PROFESSION   COUNTRY      DATE\n",
              "1-3 words      0.750323      0.728198    0.728984  0.836740  0.876888\n",
              "4-7 words      0.535306      0.643321    0.471019  0.246422  0.862550\n",
              "8-10 words     0.285091      0.411083    0.283519  0.320000  0.418004\n",
              "over 10 words  0.197762      0.236901    0.181433  0.146093  0.304404"
            ],
            "text/html": [
              "\n",
              "  <div id=\"df-6c1820b2-e9f8-495d-91b0-131835cabe43\">\n",
              "    <div class=\"colab-df-container\">\n",
              "      <div>\n",
              "<style scoped>\n",
              "    .dataframe tbody tr th:only-of-type {\n",
              "        vertical-align: middle;\n",
              "    }\n",
              "\n",
              "    .dataframe tbody tr th {\n",
              "        vertical-align: top;\n",
              "    }\n",
              "\n",
              "    .dataframe thead th {\n",
              "        text-align: right;\n",
              "    }\n",
              "</style>\n",
              "<table border=\"1\" class=\"dataframe\">\n",
              "  <thead>\n",
              "    <tr style=\"text-align: right;\">\n",
              "      <th></th>\n",
              "      <th>PERSON</th>\n",
              "      <th>ORGANIZATION</th>\n",
              "      <th>PROFESSION</th>\n",
              "      <th>COUNTRY</th>\n",
              "      <th>DATE</th>\n",
              "    </tr>\n",
              "  </thead>\n",
              "  <tbody>\n",
              "    <tr>\n",
              "      <th>1-3 words</th>\n",
              "      <td>0.750323</td>\n",
              "      <td>0.728198</td>\n",
              "      <td>0.728984</td>\n",
              "      <td>0.836740</td>\n",
              "      <td>0.876888</td>\n",
              "    </tr>\n",
              "    <tr>\n",
              "      <th>4-7 words</th>\n",
              "      <td>0.535306</td>\n",
              "      <td>0.643321</td>\n",
              "      <td>0.471019</td>\n",
              "      <td>0.246422</td>\n",
              "      <td>0.862550</td>\n",
              "    </tr>\n",
              "    <tr>\n",
              "      <th>8-10 words</th>\n",
              "      <td>0.285091</td>\n",
              "      <td>0.411083</td>\n",
              "      <td>0.283519</td>\n",
              "      <td>0.320000</td>\n",
              "      <td>0.418004</td>\n",
              "    </tr>\n",
              "    <tr>\n",
              "      <th>over 10 words</th>\n",
              "      <td>0.197762</td>\n",
              "      <td>0.236901</td>\n",
              "      <td>0.181433</td>\n",
              "      <td>0.146093</td>\n",
              "      <td>0.304404</td>\n",
              "    </tr>\n",
              "  </tbody>\n",
              "</table>\n",
              "</div>\n",
              "      <button class=\"colab-df-convert\" onclick=\"convertToInteractive('df-6c1820b2-e9f8-495d-91b0-131835cabe43')\"\n",
              "              title=\"Convert this dataframe to an interactive table.\"\n",
              "              style=\"display:none;\">\n",
              "        \n",
              "  <svg xmlns=\"http://www.w3.org/2000/svg\" height=\"24px\"viewBox=\"0 0 24 24\"\n",
              "       width=\"24px\">\n",
              "    <path d=\"M0 0h24v24H0V0z\" fill=\"none\"/>\n",
              "    <path d=\"M18.56 5.44l.94 2.06.94-2.06 2.06-.94-2.06-.94-.94-2.06-.94 2.06-2.06.94zm-11 1L8.5 8.5l.94-2.06 2.06-.94-2.06-.94L8.5 2.5l-.94 2.06-2.06.94zm10 10l.94 2.06.94-2.06 2.06-.94-2.06-.94-.94-2.06-.94 2.06-2.06.94z\"/><path d=\"M17.41 7.96l-1.37-1.37c-.4-.4-.92-.59-1.43-.59-.52 0-1.04.2-1.43.59L10.3 9.45l-7.72 7.72c-.78.78-.78 2.05 0 2.83L4 21.41c.39.39.9.59 1.41.59.51 0 1.02-.2 1.41-.59l7.78-7.78 2.81-2.81c.8-.78.8-2.07 0-2.86zM5.41 20L4 18.59l7.72-7.72 1.47 1.35L5.41 20z\"/>\n",
              "  </svg>\n",
              "      </button>\n",
              "      \n",
              "  <style>\n",
              "    .colab-df-container {\n",
              "      display:flex;\n",
              "      flex-wrap:wrap;\n",
              "      gap: 12px;\n",
              "    }\n",
              "\n",
              "    .colab-df-convert {\n",
              "      background-color: #E8F0FE;\n",
              "      border: none;\n",
              "      border-radius: 50%;\n",
              "      cursor: pointer;\n",
              "      display: none;\n",
              "      fill: #1967D2;\n",
              "      height: 32px;\n",
              "      padding: 0 0 0 0;\n",
              "      width: 32px;\n",
              "    }\n",
              "\n",
              "    .colab-df-convert:hover {\n",
              "      background-color: #E2EBFA;\n",
              "      box-shadow: 0px 1px 2px rgba(60, 64, 67, 0.3), 0px 1px 3px 1px rgba(60, 64, 67, 0.15);\n",
              "      fill: #174EA6;\n",
              "    }\n",
              "\n",
              "    [theme=dark] .colab-df-convert {\n",
              "      background-color: #3B4455;\n",
              "      fill: #D2E3FC;\n",
              "    }\n",
              "\n",
              "    [theme=dark] .colab-df-convert:hover {\n",
              "      background-color: #434B5C;\n",
              "      box-shadow: 0px 1px 3px 1px rgba(0, 0, 0, 0.15);\n",
              "      filter: drop-shadow(0px 1px 2px rgba(0, 0, 0, 0.3));\n",
              "      fill: #FFFFFF;\n",
              "    }\n",
              "  </style>\n",
              "\n",
              "      <script>\n",
              "        const buttonEl =\n",
              "          document.querySelector('#df-6c1820b2-e9f8-495d-91b0-131835cabe43 button.colab-df-convert');\n",
              "        buttonEl.style.display =\n",
              "          google.colab.kernel.accessAllowed ? 'block' : 'none';\n",
              "\n",
              "        async function convertToInteractive(key) {\n",
              "          const element = document.querySelector('#df-6c1820b2-e9f8-495d-91b0-131835cabe43');\n",
              "          const dataTable =\n",
              "            await google.colab.kernel.invokeFunction('convertToInteractive',\n",
              "                                                     [key], {});\n",
              "          if (!dataTable) return;\n",
              "\n",
              "          const docLinkHtml = 'Like what you see? Visit the ' +\n",
              "            '<a target=\"_blank\" href=https://colab.research.google.com/notebooks/data_table.ipynb>data table notebook</a>'\n",
              "            + ' to learn more about interactive tables.';\n",
              "          element.innerHTML = '';\n",
              "          dataTable['output_type'] = 'display_data';\n",
              "          await google.colab.output.renderOutput(dataTable, element);\n",
              "          const docLink = document.createElement('div');\n",
              "          docLink.innerHTML = docLinkHtml;\n",
              "          element.appendChild(docLink);\n",
              "        }\n",
              "      </script>\n",
              "    </div>\n",
              "  </div>\n",
              "  "
            ]
          },
          "metadata": {},
          "execution_count": 33
        }
      ]
    },
    {
      "cell_type": "code",
      "source": [
        "df.plot.bar()"
      ],
      "metadata": {
        "colab": {
          "base_uri": "https://localhost:8080/",
          "height": 344
        },
        "id": "yRZ_SS6zUDTk",
        "outputId": "4308372c-0d9d-49a7-969d-5cea47b2d513"
      },
      "execution_count": null,
      "outputs": [
        {
          "output_type": "execute_result",
          "data": {
            "text/plain": [
              "<matplotlib.axes._subplots.AxesSubplot at 0x7f03cbbf0050>"
            ]
          },
          "metadata": {},
          "execution_count": 34
        },
        {
          "output_type": "display_data",
          "data": {
            "text/plain": [
              "<Figure size 432x288 with 1 Axes>"
            ],
            "image/png": "[encoded data removed]"
          },
          "metadata": {
            "needs_background": "light"
          }
        }
      ]
    },
    {
      "cell_type": "code",
      "source": [
        ""
      ],
      "metadata": {
        "id": "1ecgLESKDiGh"
      },
      "execution_count": null,
      "outputs": []
    }
  ]
}