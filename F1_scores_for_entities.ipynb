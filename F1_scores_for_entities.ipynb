{
  "nbformat": 4,
  "nbformat_minor": 0,
  "metadata": {
    "colab": {
      "name": "F1_scores_for_entities.ipynb",
      "provenance": [],
      "collapsed_sections": []
    },
    "kernelspec": {
      "name": "python3",
      "display_name": "Python 3"
    },
    "language_info": {
      "name": "python"
    }
  },
  "cells": [
    {
      "cell_type": "code",
      "execution_count": null,
      "metadata": {
        "colab": {
          "base_uri": "https://localhost:8080/"
        },
        "id": "LTMOkMyu-fZ3",
        "outputId": "04690ab6-12c8-482b-ac97-e052a87dbcd1"
      },
      "outputs": [
        {
          "output_type": "stream",
          "name": "stdout",
          "text": [
            "Drive already mounted at /content/drive; to attempt to forcibly remount, call drive.mount(\"/content/drive\", force_remount=True).\n"
          ]
        }
      ],
      "source": [
        "import re\n",
        "import string\n",
        "import pandas as pd\n",
        "\n",
        "import csv\n",
        "import json\n",
        "import glob\n",
        "\n",
        "from google.colab import drive\n",
        "drive.mount('/content/drive')"
      ]
    },
    {
      "cell_type": "code",
      "source": [
        "with open('/content/drive/MyDrive/Diploma_paper/out_nerel_inference_new.txt') as f:\n",
        "  text = f.read()"
      ],
      "metadata": {
        "id": "CypCLXUw-r_c"
      },
      "execution_count": null,
      "outputs": []
    },
    {
      "cell_type": "markdown",
      "source": [
        "Let us make a list of predictions"
      ],
      "metadata": {
        "id": "pBQGZKC-K2Ff"
      }
    },
    {
      "cell_type": "code",
      "source": [
        "text_list = text.split('*=*=*=*=*=*=*=*=*=*=')"
      ],
      "metadata": {
        "id": "ScnvKYxx-sFk"
      },
      "execution_count": null,
      "outputs": []
    },
    {
      "cell_type": "markdown",
      "source": [
        "Let us remove empty predictions (but not false empty predictions)"
      ],
      "metadata": {
        "id": "chMMaS3wKt6D"
      }
    },
    {
      "cell_type": "code",
      "source": [
        "text_list_ent = []\n",
        "for i in text_list:\n",
        "  # if (re.findall('\\nModel true: \\[]', i) == []) and (re.findall('\\nModel predict: \\[]', i) == []) or (re.findall('\\nModel true: \\[]', i) != []) and (re.findall('\\nModel predict: \\[]', i) == []) or (re.findall('\\nModel true: \\[]', i) == []) and (re.findall('\\nModel predict: \\[]', i) != []):\n",
        "    text_list_ent.append(i)\n"
      ],
      "metadata": {
        "id": "dCZX4RHc-sIL"
      },
      "execution_count": null,
      "outputs": []
    },
    {
      "cell_type": "markdown",
      "source": [
        "Number of sentences "
      ],
      "metadata": {
        "id": "1Oz-d2_KKVHq"
      }
    },
    {
      "cell_type": "code",
      "source": [
        "len(text_list)//29"
      ],
      "metadata": {
        "colab": {
          "base_uri": "https://localhost:8080/"
        },
        "id": "58n3tcuHKHkL",
        "outputId": "4100aff0-c1da-4bc6-9456-fe755aa384b0"
      },
      "execution_count": null,
      "outputs": [
        {
          "output_type": "execute_result",
          "data": {
            "text/plain": [
              "1126"
            ]
          },
          "metadata": {},
          "execution_count": 60
        }
      ]
    },
    {
      "cell_type": "markdown",
      "source": [
        "Create list of entity names"
      ],
      "metadata": {
        "id": "u3zTCe2PNk0D"
      }
    },
    {
      "cell_type": "code",
      "source": [
        "entities = {\"PERSON\": \"Найди в тексте обозначение человека, человеческого существа, имени или фамилии\",\n",
        "\"PROFESSION\": \"Найти в тексте обозначение рода трудовой деятельности человека, обозначение труда или занятия, за которое человек получает оплату\",\n",
        "\"ORGANIZATION\": \"Найди в тексте обозначение производственного образования, сформированного из людей, деятельность которых координируется руководством для достижения общей цели\",\n",
        "\"EVENT\": \"Найди в тексте обозначение значимого явления, которое произошло в некоторый момент времени\",\n",
        "\"DATE\": \"Найди в тексте временную запись, включающую в себя число месяца, месяц или год\",\n",
        "\"COUNTRY\": \"Найди в тексте обозначение территории, имеющей политические, географические, культурные и исторические границы\",\n",
        "\"CITY\": \"Найди в тексте обозначение крупного населенного пункта, административного, торгового, промышленного и культурного центра\",\n",
        "\"NUMBER\": \"Найди в тексте обозначение количества или обозначение математической величины, при помощи которой производится счет\",\n",
        "\"AGE\": \"Найди в тексте обозначение возраста или обозначение количества лет\",\n",
        "\"ORDINAL\": \"Найди в тексте обозначение порядкового номера\",\n",
        "\"AWARD\": \"Найди в тексте обозначение приза, получаемого победителем соревнования, или обозначение награды за успехи\",\n",
        "\"STATE_OR_PROVINCE\": \"Найди в тексте обозначение территориальной административной единицы в пределах государства или страны\",\n",
        "\"NATIONALITY\": \"Найди в тексте обозначение принадлежности индивида к национальной или этнической группе, народности, нации, обозначение гражданства или юридической принадлежности к тому или иному государству\",\n",
        "\"FACILITY\": \"Найди в тексте обозначение коммерческого или административного здания\",\n",
        "\"LAW\": \"Найди в тексте обозначение правила или нормативно-правового акта, который принимается законодательным органом государственной власти и регулирует определённые общественные отношения\",\n",
        "\"WORK_OF_ART\": \"Найди в тексте обозначение произведения художественного творчества или иного материального продукта деятельности человека, имеющего определенную ценность\",\n",
        "\"CRIME\": \"Найди в тексте обозначение правонарушения или общественно опасного деяния, совершение которого влечёт применение мер уголовной ответственности\",\n",
        "\"DISEASE\": \"Найди в тексте обозначение расстройства здоровья, нарушающего деятельность организма или его отдельных органов\",\n",
        "\"LOCATION\": \"Найди в тексте обозначение места или местоположения какого-либо объекта или предмета\", \n",
        "\"IDEOLOGY\": \"Найди в тексте обозначение системы взглядов и идей, характеризующих какую-либо социальную группу, класс, политическую партию или сообщество\",\n",
        "\"PRODUCT\": \"Найди в тексте обозначение какого-либо предмета или результата человеческого труда, например, обработки, переработки, исследования\",\n",
        "\"PENALTY\": \"Найди в тексте обозначение меры воздействия на того, кто совершил правонарушение или преступление\",\n",
        "\"TIME\": \"Найди в тексте обозначение продолжительности, длительности чего-либо, измеряемого секундами, минутами, часами\",\n",
        "\"MONEY\": \"Найди в тексте обозначение меры стоимости товаров или услуг, используемой для обмена\",\n",
        "\"DISTRICT\": \"Найди в тексте обозначение административно-территориальной единицы или обозначение части города и страны\",\n",
        "\"RELIGION\": \"Найди в тексте обозначение системы взглядов, обусловленной верой в сверхъестественное, включающей в себя свод моральных норм и обрядов, и объединяющей людей в институты\",\n",
        "\"PERCENT\": \"Найди в тексте обозначение одной сотой части чего-либо, используемой для обозначения доли чего-либо по отношению к целому\",\n",
        "\"LANGUAGE\": \"Найди в тексте обозначение сложной знаковой системы, естественно или искусственно созданной для коммуникации между людьми\",\n",
        "\"FAMILY\": \"Найди в тексте обозначение основанной на браке или кровном родстве малой группы людей, члены которой связаны общностью быта, взаимной ответственностью и взаимопомощью\"\n",
        " }"
      ],
      "metadata": {
        "id": "kY-OkTrYPmp5"
      },
      "execution_count": null,
      "outputs": []
    },
    {
      "cell_type": "code",
      "source": [
        "entity_names = entities.keys()"
      ],
      "metadata": {
        "id": "5s-b7kOULBQN"
      },
      "execution_count": null,
      "outputs": []
    },
    {
      "cell_type": "markdown",
      "source": [
        "Let us count how many entities of each type were found (number of predictions)"
      ],
      "metadata": {
        "id": "kHC3iNrqNph3"
      }
    },
    {
      "cell_type": "code",
      "source": [
        "text_list_count = []\n",
        "for i in text_list:\n",
        "  if (re.findall('\\nModel true: \\[]', i) == []) and (re.findall('\\nModel predict: \\[]', i) == []):\n",
        "    text_list_count.append(i)"
      ],
      "metadata": {
        "id": "jIXJFGsHgn1N"
      },
      "execution_count": null,
      "outputs": []
    },
    {
      "cell_type": "code",
      "source": [
        "entity_count = {}\n",
        "for i in entity_names:\n",
        "  entity_count[i] = 0\n",
        "\n",
        "for i in text_list_count:\n",
        "  for j in entity_names:\n",
        "    if re.findall(j, i) != []:\n",
        "      entity_count[j] += 1\n"
      ],
      "metadata": {
        "id": "alFmpi8-K7jP"
      },
      "execution_count": null,
      "outputs": []
    },
    {
      "cell_type": "code",
      "source": [
        "entity_count"
      ],
      "metadata": {
        "colab": {
          "base_uri": "https://localhost:8080/"
        },
        "id": "5OApqtygNP73",
        "outputId": "7e084b6f-468c-44a3-e45f-9559978d3156"
      },
      "execution_count": null,
      "outputs": [
        {
          "output_type": "execute_result",
          "data": {
            "text/plain": [
              "{'AGE': 117,\n",
              " 'AWARD': 49,\n",
              " 'CITY': 160,\n",
              " 'COUNTRY': 293,\n",
              " 'CRIME': 18,\n",
              " 'DATE': 418,\n",
              " 'DISEASE': 27,\n",
              " 'DISTRICT': 10,\n",
              " 'EVENT': 299,\n",
              " 'FACILITY': 24,\n",
              " 'FAMILY': 1,\n",
              " 'IDEOLOGY': 31,\n",
              " 'LANGUAGE': 5,\n",
              " 'LAW': 22,\n",
              " 'LOCATION': 24,\n",
              " 'MONEY': 30,\n",
              " 'NATIONALITY': 37,\n",
              " 'NUMBER': 134,\n",
              " 'ORDINAL': 65,\n",
              " 'ORGANIZATION': 347,\n",
              " 'PENALTY': 7,\n",
              " 'PERCENT': 6,\n",
              " 'PERSON': 549,\n",
              " 'PRODUCT': 32,\n",
              " 'PROFESSION': 379,\n",
              " 'RELIGION': 15,\n",
              " 'STATE_OR_PROVINCE': 75,\n",
              " 'TIME': 32,\n",
              " 'WORK_OF_ART': 31}"
            ]
          },
          "metadata": {},
          "execution_count": 106
        }
      ]
    },
    {
      "cell_type": "markdown",
      "source": [
        "Create a plot"
      ],
      "metadata": {
        "id": "s0swvqHhOHFw"
      }
    },
    {
      "cell_type": "code",
      "source": [
        "import matplotlib.pyplot as plt\n",
        "\n",
        "names = list(entity_count.keys())\n",
        "values = list(entity_count.values())\n",
        "\n",
        "plt.bar(range(len(entity_count)), values, tick_label=names)\n",
        "plt.xticks(range(len(entity_count)), names, rotation='vertical')\n",
        "plt.show()"
      ],
      "metadata": {
        "colab": {
          "base_uri": "https://localhost:8080/",
          "height": 361
        },
        "id": "mApPcL3nNRel",
        "outputId": "ec75d996-feab-487c-84cf-35505d365a8c"
      },
      "execution_count": null,
      "outputs": [
        {
          "output_type": "display_data",
          "data": {
            "text/plain": [
              "<Figure size 432x288 with 1 Axes>"
            ],
            "image/png": "[encoded data removed]"
          },
          "metadata": {
            "needs_background": "light"
          }
        }
      ]
    },
    {
      "cell_type": "markdown",
      "source": [
        "We can see, that top 5 entities found are: Person, Profession, Organization, Event, Date"
      ],
      "metadata": {
        "id": "TIEN2UdpOq1h"
      }
    },
    {
      "cell_type": "markdown",
      "source": [
        "Let us look more close"
      ],
      "metadata": {
        "id": "xE6PJwakPCFB"
      }
    },
    {
      "cell_type": "code",
      "source": [
        "entity_dict = {}\n",
        "for i in entity_names:\n",
        "  entity_dict[i] = []\n",
        "  \n",
        "for i in text_list_ent:\n",
        "  for j in entity_names:\n",
        "    if re.findall(j, i) != []:\n",
        "      entity_dict[j].append(i)"
      ],
      "metadata": {
        "id": "Aq5ePNFvO6DM"
      },
      "execution_count": null,
      "outputs": []
    },
    {
      "cell_type": "code",
      "source": [
        "for elem in entities.keys():\n",
        "  for i, el in enumerate(entity_dict[elem]):\n",
        "   entity_dict[elem][i] = el[(len(entities[elem])+14):]"
      ],
      "metadata": {
        "id": "c7k9NAaSDsL5"
      },
      "execution_count": null,
      "outputs": []
    },
    {
      "cell_type": "code",
      "source": [
        "# for i, el in enumerate(entity_dict['FAMILY']):\n",
        "#   print(entity_dict['FAMILY'][i])\n"
      ],
      "metadata": {
        "id": "C5uYYhuyP6oi"
      },
      "execution_count": null,
      "outputs": []
    },
    {
      "cell_type": "code",
      "source": [
        "replace = []\n",
        "for elem in entity_dict.keys():\n",
        "  for i, el in enumerate(entity_dict[elem]):\n",
        "    replace = re.findall('%%.*?\\n', el)\n",
        "    new_str = el\n",
        "    for j in replace:\n",
        "        new_str = new_str.replace(j,'')\n",
        "    entity_dict[elem][i] = new_str\n",
        "\n"
      ],
      "metadata": {
        "id": "749grdIf98gH"
      },
      "execution_count": null,
      "outputs": []
    },
    {
      "cell_type": "code",
      "source": [
        "for el in entity_dict:\n",
        "  for idx, elem in enumerate(entity_dict[el]):\n",
        "    entity_dict[el][idx] = elem.split('\\n')[:-1]\n",
        "  # for j in i.split('\\n'):\n",
        "  #   print('-',j)"
      ],
      "metadata": {
        "id": "PdsUQL8e_xvM"
      },
      "execution_count": null,
      "outputs": []
    },
    {
      "cell_type": "code",
      "source": [
        "import ast\n",
        "import pandas as pd\n",
        "\n",
        "res = {}\n",
        "for key in entity_dict:\n",
        "  df = pd.DataFrame(columns=['context', 'true', 'predict', 'TP', 'possible', 'actual'])\n",
        "  for el in entity_dict[key]:\n",
        "    el[1] = el[1].replace('Model true: ','')\n",
        "    el[2] = el[2].replace('Model predict: ','')\n",
        "\n",
        "    el[1] = ast.literal_eval(el[1])\n",
        "    el[2] = ast.literal_eval(el[2])\n",
        "    df = df.append({'context':el[0], 'true': el[1], 'predict':el[2]}, ignore_index=True)\n",
        "  res[key] = df\n"
      ],
      "metadata": {
        "id": "5XcdYEZbGlJc"
      },
      "execution_count": null,
      "outputs": []
    },
    {
      "cell_type": "code",
      "source": [
        "import copy\n",
        "# def give_me_TP(row):\n",
        "#   # return len(list(set(row['true']) & set(row['predict'] ))) > 0\n",
        "#   return (len(row['true']) > 0) & (len(row['predict']) > 0)\n",
        "# def give_me_TN(row):\n",
        "#   return (len(row['true']) == 0) & (len(row['predict']) == 0)\n",
        "# def give_me_FP(row):\n",
        "#   return (len(row['true']) == 0) & (len(row['predict']) > 0)\n",
        "# def give_me_FN(row):\n",
        "#   return (len(row['true']) > 0) & (len(row['predict']) == 0)\n",
        "def give_me_TP(row):\n",
        "  res = 0\n",
        "  for x in list(set(row['true'])):\n",
        "    for y in list(set(row['predict'])):\n",
        "      if x == y:\n",
        "        res += 1\n",
        "  return res\n",
        "def give_me_possible_num(row):\n",
        "  return len(row['true'])\n",
        "def give_me_actual_num(row):\n",
        "  return len(row['predict'])\n",
        "\n",
        "\n",
        "res_score = pd.DataFrame(columns=['Label', 'TP', 'possible', 'actual', 'precision', 'recall', 'f1'])\n",
        "\n",
        "for key in res:\n",
        "  df = res[key]\n",
        "  for index, row in df.iterrows():\n",
        "    row['TP'] = give_me_TP(row)\n",
        "    row['possible'] = give_me_possible_num(row)\n",
        "    row['actual'] = give_me_actual_num(row)\n",
        "  overall = df[['TP', 'possible', 'actual']].sum(axis=0)\n",
        "  precision = overall['TP']/overall['actual']\n",
        "  recall = overall['TP']/overall['possible']\n",
        "  f1 = 2*precision*recall/(precision + recall + 1e-10)\n",
        "  res_score = res_score.append({\n",
        "                          'Label': key,\n",
        "                          'TP': overall['TP'], \n",
        "                          'possible': overall['possible'], \n",
        "                          'actual': overall['actual'],\n",
        "                          'precision': precision,\n",
        "                          'recall': recall,\n",
        "                          'f1': f1}, ignore_index=True)\n"
      ],
      "metadata": {
        "id": "PZwpL9aPr08Q"
      },
      "execution_count": null,
      "outputs": []
    },
    {
      "cell_type": "code",
      "source": [
        "res_score.sort_values(['f1'])"
      ],
      "metadata": {
        "colab": {
          "base_uri": "https://localhost:8080/",
          "height": 654
        },
        "id": "9a1auR3XGf81",
        "outputId": "05d2d97f-a174-447a-9ffb-b75daa9db1ee"
      },
      "execution_count": null,
      "outputs": [
        {
          "output_type": "execute_result",
          "data": {
            "text/plain": [
              "                Label   TP possible actual  precision    recall        f1\n",
              "28             FAMILY    1       13      4   0.250000  0.076923  0.117647\n",
              "21            PENALTY    7       18     14   0.500000  0.388889  0.437500\n",
              "13           FACILITY   29       63     64   0.453125  0.460317  0.456693\n",
              "18           LOCATION   24       61     41   0.585366  0.393443  0.470588\n",
              "24           DISTRICT   11       25     17   0.647059  0.440000  0.523810\n",
              "15        WORK_OF_ART   42       92     64   0.656250  0.456522  0.538462\n",
              "16              CRIME   24       35     52   0.461538  0.685714  0.551724\n",
              "3               EVENT  348      659    561   0.620321  0.528073  0.570492\n",
              "10              AWARD   75      121    131   0.572519  0.619835  0.595238\n",
              "14                LAW   35       62     55   0.636364  0.564516  0.598291\n",
              "17            DISEASE   31       56     44   0.704545  0.553571  0.620000\n",
              "2        ORGANIZATION  438      658    665   0.658647  0.665653  0.662132\n",
              "20            PRODUCT   35       53     51   0.686275  0.660377  0.673077\n",
              "22               TIME   31       47     43   0.720930  0.659574  0.688889\n",
              "12        NATIONALITY   42       62     59   0.711864  0.677419  0.694215\n",
              "23              MONEY   30       43     43   0.697674  0.697674  0.697674\n",
              "1          PROFESSION  591      850    806   0.733251  0.695294  0.713768\n",
              "26            PERCENT    5        7      7   0.714286  0.714286  0.714286\n",
              "11  STATE_OR_PROVINCE   81      112    114   0.710526  0.723214  0.716814\n",
              "6                CITY  195      238    298   0.654362  0.819328  0.727612\n",
              "19           IDEOLOGY   32       43     43   0.744186  0.744186  0.744186\n",
              "9             ORDINAL   76      106     91   0.835165  0.716981  0.771574\n",
              "27           LANGUAGE    6        8      7   0.857143  0.750000  0.800000\n",
              "7              NUMBER  176      224    196   0.897959  0.785714  0.838095\n",
              "0              PERSON  825      955    993   0.830816  0.863874  0.847023\n",
              "4                DATE  471      521    558   0.844086  0.904031  0.873031\n",
              "8                 AGE  120      146    128   0.937500  0.821918  0.875912\n",
              "5             COUNTRY  408      456    449   0.908686  0.894737  0.901657\n",
              "25           RELIGION   19       23     19   1.000000  0.826087  0.904762"
            ],
            "text/html": [
              "\n",
              "  <div id=\"df-9edbb11b-779e-43c3-9f72-150ddd6095e3\">\n",
              "    <div class=\"colab-df-container\">\n",
              "      <div>\n",
              "<style scoped>\n",
              "    .dataframe tbody tr th:only-of-type {\n",
              "        vertical-align: middle;\n",
              "    }\n",
              "\n",
              "    .dataframe tbody tr th {\n",
              "        vertical-align: top;\n",
              "    }\n",
              "\n",
              "    .dataframe thead th {\n",
              "        text-align: right;\n",
              "    }\n",
              "</style>\n",
              "<table border=\"1\" class=\"dataframe\">\n",
              "  <thead>\n",
              "    <tr style=\"text-align: right;\">\n",
              "      <th></th>\n",
              "      <th>Label</th>\n",
              "      <th>TP</th>\n",
              "      <th>possible</th>\n",
              "      <th>actual</th>\n",
              "      <th>precision</th>\n",
              "      <th>recall</th>\n",
              "      <th>f1</th>\n",
              "    </tr>\n",
              "  </thead>\n",
              "  <tbody>\n",
              "    <tr>\n",
              "      <th>28</th>\n",
              "      <td>FAMILY</td>\n",
              "      <td>1</td>\n",
              "      <td>13</td>\n",
              "      <td>4</td>\n",
              "      <td>0.250000</td>\n",
              "      <td>0.076923</td>\n",
              "      <td>0.117647</td>\n",
              "    </tr>\n",
              "    <tr>\n",
              "      <th>21</th>\n",
              "      <td>PENALTY</td>\n",
              "      <td>7</td>\n",
              "      <td>18</td>\n",
              "      <td>14</td>\n",
              "      <td>0.500000</td>\n",
              "      <td>0.388889</td>\n",
              "      <td>0.437500</td>\n",
              "    </tr>\n",
              "    <tr>\n",
              "      <th>13</th>\n",
              "      <td>FACILITY</td>\n",
              "      <td>29</td>\n",
              "      <td>63</td>\n",
              "      <td>64</td>\n",
              "      <td>0.453125</td>\n",
              "      <td>0.460317</td>\n",
              "      <td>0.456693</td>\n",
              "    </tr>\n",
              "    <tr>\n",
              "      <th>18</th>\n",
              "      <td>LOCATION</td>\n",
              "      <td>24</td>\n",
              "      <td>61</td>\n",
              "      <td>41</td>\n",
              "      <td>0.585366</td>\n",
              "      <td>0.393443</td>\n",
              "      <td>0.470588</td>\n",
              "    </tr>\n",
              "    <tr>\n",
              "      <th>24</th>\n",
              "      <td>DISTRICT</td>\n",
              "      <td>11</td>\n",
              "      <td>25</td>\n",
              "      <td>17</td>\n",
              "      <td>0.647059</td>\n",
              "      <td>0.440000</td>\n",
              "      <td>0.523810</td>\n",
              "    </tr>\n",
              "    <tr>\n",
              "      <th>15</th>\n",
              "      <td>WORK_OF_ART</td>\n",
              "      <td>42</td>\n",
              "      <td>92</td>\n",
              "      <td>64</td>\n",
              "      <td>0.656250</td>\n",
              "      <td>0.456522</td>\n",
              "      <td>0.538462</td>\n",
              "    </tr>\n",
              "    <tr>\n",
              "      <th>16</th>\n",
              "      <td>CRIME</td>\n",
              "      <td>24</td>\n",
              "      <td>35</td>\n",
              "      <td>52</td>\n",
              "      <td>0.461538</td>\n",
              "      <td>0.685714</td>\n",
              "      <td>0.551724</td>\n",
              "    </tr>\n",
              "    <tr>\n",
              "      <th>3</th>\n",
              "      <td>EVENT</td>\n",
              "      <td>348</td>\n",
              "      <td>659</td>\n",
              "      <td>561</td>\n",
              "      <td>0.620321</td>\n",
              "      <td>0.528073</td>\n",
              "      <td>0.570492</td>\n",
              "    </tr>\n",
              "    <tr>\n",
              "      <th>10</th>\n",
              "      <td>AWARD</td>\n",
              "      <td>75</td>\n",
              "      <td>121</td>\n",
              "      <td>131</td>\n",
              "      <td>0.572519</td>\n",
              "      <td>0.619835</td>\n",
              "      <td>0.595238</td>\n",
              "    </tr>\n",
              "    <tr>\n",
              "      <th>14</th>\n",
              "      <td>LAW</td>\n",
              "      <td>35</td>\n",
              "      <td>62</td>\n",
              "      <td>55</td>\n",
              "      <td>0.636364</td>\n",
              "      <td>0.564516</td>\n",
              "      <td>0.598291</td>\n",
              "    </tr>\n",
              "    <tr>\n",
              "      <th>17</th>\n",
              "      <td>DISEASE</td>\n",
              "      <td>31</td>\n",
              "      <td>56</td>\n",
              "      <td>44</td>\n",
              "      <td>0.704545</td>\n",
              "      <td>0.553571</td>\n",
              "      <td>0.620000</td>\n",
              "    </tr>\n",
              "    <tr>\n",
              "      <th>2</th>\n",
              "      <td>ORGANIZATION</td>\n",
              "      <td>438</td>\n",
              "      <td>658</td>\n",
              "      <td>665</td>\n",
              "      <td>0.658647</td>\n",
              "      <td>0.665653</td>\n",
              "      <td>0.662132</td>\n",
              "    </tr>\n",
              "    <tr>\n",
              "      <th>20</th>\n",
              "      <td>PRODUCT</td>\n",
              "      <td>35</td>\n",
              "      <td>53</td>\n",
              "      <td>51</td>\n",
              "      <td>0.686275</td>\n",
              "      <td>0.660377</td>\n",
              "      <td>0.673077</td>\n",
              "    </tr>\n",
              "    <tr>\n",
              "      <th>22</th>\n",
              "      <td>TIME</td>\n",
              "      <td>31</td>\n",
              "      <td>47</td>\n",
              "      <td>43</td>\n",
              "      <td>0.720930</td>\n",
              "      <td>0.659574</td>\n",
              "      <td>0.688889</td>\n",
              "    </tr>\n",
              "    <tr>\n",
              "      <th>12</th>\n",
              "      <td>NATIONALITY</td>\n",
              "      <td>42</td>\n",
              "      <td>62</td>\n",
              "      <td>59</td>\n",
              "      <td>0.711864</td>\n",
              "      <td>0.677419</td>\n",
              "      <td>0.694215</td>\n",
              "    </tr>\n",
              "    <tr>\n",
              "      <th>23</th>\n",
              "      <td>MONEY</td>\n",
              "      <td>30</td>\n",
              "      <td>43</td>\n",
              "      <td>43</td>\n",
              "      <td>0.697674</td>\n",
              "      <td>0.697674</td>\n",
              "      <td>0.697674</td>\n",
              "    </tr>\n",
              "    <tr>\n",
              "      <th>1</th>\n",
              "      <td>PROFESSION</td>\n",
              "      <td>591</td>\n",
              "      <td>850</td>\n",
              "      <td>806</td>\n",
              "      <td>0.733251</td>\n",
              "      <td>0.695294</td>\n",
              "      <td>0.713768</td>\n",
              "    </tr>\n",
              "    <tr>\n",
              "      <th>26</th>\n",
              "      <td>PERCENT</td>\n",
              "      <td>5</td>\n",
              "      <td>7</td>\n",
              "      <td>7</td>\n",
              "      <td>0.714286</td>\n",
              "      <td>0.714286</td>\n",
              "      <td>0.714286</td>\n",
              "    </tr>\n",
              "    <tr>\n",
              "      <th>11</th>\n",
              "      <td>STATE_OR_PROVINCE</td>\n",
              "      <td>81</td>\n",
              "      <td>112</td>\n",
              "      <td>114</td>\n",
              "      <td>0.710526</td>\n",
              "      <td>0.723214</td>\n",
              "      <td>0.716814</td>\n",
              "    </tr>\n",
              "    <tr>\n",
              "      <th>6</th>\n",
              "      <td>CITY</td>\n",
              "      <td>195</td>\n",
              "      <td>238</td>\n",
              "      <td>298</td>\n",
              "      <td>0.654362</td>\n",
              "      <td>0.819328</td>\n",
              "      <td>0.727612</td>\n",
              "    </tr>\n",
              "    <tr>\n",
              "      <th>19</th>\n",
              "      <td>IDEOLOGY</td>\n",
              "      <td>32</td>\n",
              "      <td>43</td>\n",
              "      <td>43</td>\n",
              "      <td>0.744186</td>\n",
              "      <td>0.744186</td>\n",
              "      <td>0.744186</td>\n",
              "    </tr>\n",
              "    <tr>\n",
              "      <th>9</th>\n",
              "      <td>ORDINAL</td>\n",
              "      <td>76</td>\n",
              "      <td>106</td>\n",
              "      <td>91</td>\n",
              "      <td>0.835165</td>\n",
              "      <td>0.716981</td>\n",
              "      <td>0.771574</td>\n",
              "    </tr>\n",
              "    <tr>\n",
              "      <th>27</th>\n",
              "      <td>LANGUAGE</td>\n",
              "      <td>6</td>\n",
              "      <td>8</td>\n",
              "      <td>7</td>\n",
              "      <td>0.857143</td>\n",
              "      <td>0.750000</td>\n",
              "      <td>0.800000</td>\n",
              "    </tr>\n",
              "    <tr>\n",
              "      <th>7</th>\n",
              "      <td>NUMBER</td>\n",
              "      <td>176</td>\n",
              "      <td>224</td>\n",
              "      <td>196</td>\n",
              "      <td>0.897959</td>\n",
              "      <td>0.785714</td>\n",
              "      <td>0.838095</td>\n",
              "    </tr>\n",
              "    <tr>\n",
              "      <th>0</th>\n",
              "      <td>PERSON</td>\n",
              "      <td>825</td>\n",
              "      <td>955</td>\n",
              "      <td>993</td>\n",
              "      <td>0.830816</td>\n",
              "      <td>0.863874</td>\n",
              "      <td>0.847023</td>\n",
              "    </tr>\n",
              "    <tr>\n",
              "      <th>4</th>\n",
              "      <td>DATE</td>\n",
              "      <td>471</td>\n",
              "      <td>521</td>\n",
              "      <td>558</td>\n",
              "      <td>0.844086</td>\n",
              "      <td>0.904031</td>\n",
              "      <td>0.873031</td>\n",
              "    </tr>\n",
              "    <tr>\n",
              "      <th>8</th>\n",
              "      <td>AGE</td>\n",
              "      <td>120</td>\n",
              "      <td>146</td>\n",
              "      <td>128</td>\n",
              "      <td>0.937500</td>\n",
              "      <td>0.821918</td>\n",
              "      <td>0.875912</td>\n",
              "    </tr>\n",
              "    <tr>\n",
              "      <th>5</th>\n",
              "      <td>COUNTRY</td>\n",
              "      <td>408</td>\n",
              "      <td>456</td>\n",
              "      <td>449</td>\n",
              "      <td>0.908686</td>\n",
              "      <td>0.894737</td>\n",
              "      <td>0.901657</td>\n",
              "    </tr>\n",
              "    <tr>\n",
              "      <th>25</th>\n",
              "      <td>RELIGION</td>\n",
              "      <td>19</td>\n",
              "      <td>23</td>\n",
              "      <td>19</td>\n",
              "      <td>1.000000</td>\n",
              "      <td>0.826087</td>\n",
              "      <td>0.904762</td>\n",
              "    </tr>\n",
              "  </tbody>\n",
              "</table>\n",
              "</div>\n",
              "      <button class=\"colab-df-convert\" onclick=\"convertToInteractive('df-9edbb11b-779e-43c3-9f72-150ddd6095e3')\"\n",
              "              title=\"Convert this dataframe to an interactive table.\"\n",
              "              style=\"display:none;\">\n",
              "        \n",
              "  <svg xmlns=\"http://www.w3.org/2000/svg\" height=\"24px\"viewBox=\"0 0 24 24\"\n",
              "       width=\"24px\">\n",
              "    <path d=\"M0 0h24v24H0V0z\" fill=\"none\"/>\n",
              "    <path d=\"M18.56 5.44l.94 2.06.94-2.06 2.06-.94-2.06-.94-.94-2.06-.94 2.06-2.06.94zm-11 1L8.5 8.5l.94-2.06 2.06-.94-2.06-.94L8.5 2.5l-.94 2.06-2.06.94zm10 10l.94 2.06.94-2.06 2.06-.94-2.06-.94-.94-2.06-.94 2.06-2.06.94z\"/><path d=\"M17.41 7.96l-1.37-1.37c-.4-.4-.92-.59-1.43-.59-.52 0-1.04.2-1.43.59L10.3 9.45l-7.72 7.72c-.78.78-.78 2.05 0 2.83L4 21.41c.39.39.9.59 1.41.59.51 0 1.02-.2 1.41-.59l7.78-7.78 2.81-2.81c.8-.78.8-2.07 0-2.86zM5.41 20L4 18.59l7.72-7.72 1.47 1.35L5.41 20z\"/>\n",
              "  </svg>\n",
              "      </button>\n",
              "      \n",
              "  <style>\n",
              "    .colab-df-container {\n",
              "      display:flex;\n",
              "      flex-wrap:wrap;\n",
              "      gap: 12px;\n",
              "    }\n",
              "\n",
              "    .colab-df-convert {\n",
              "      background-color: #E8F0FE;\n",
              "      border: none;\n",
              "      border-radius: 50%;\n",
              "      cursor: pointer;\n",
              "      display: none;\n",
              "      fill: #1967D2;\n",
              "      height: 32px;\n",
              "      padding: 0 0 0 0;\n",
              "      width: 32px;\n",
              "    }\n",
              "\n",
              "    .colab-df-convert:hover {\n",
              "      background-color: #E2EBFA;\n",
              "      box-shadow: 0px 1px 2px rgba(60, 64, 67, 0.3), 0px 1px 3px 1px rgba(60, 64, 67, 0.15);\n",
              "      fill: #174EA6;\n",
              "    }\n",
              "\n",
              "    [theme=dark] .colab-df-convert {\n",
              "      background-color: #3B4455;\n",
              "      fill: #D2E3FC;\n",
              "    }\n",
              "\n",
              "    [theme=dark] .colab-df-convert:hover {\n",
              "      background-color: #434B5C;\n",
              "      box-shadow: 0px 1px 3px 1px rgba(0, 0, 0, 0.15);\n",
              "      filter: drop-shadow(0px 1px 2px rgba(0, 0, 0, 0.3));\n",
              "      fill: #FFFFFF;\n",
              "    }\n",
              "  </style>\n",
              "\n",
              "      <script>\n",
              "        const buttonEl =\n",
              "          document.querySelector('#df-9edbb11b-779e-43c3-9f72-150ddd6095e3 button.colab-df-convert');\n",
              "        buttonEl.style.display =\n",
              "          google.colab.kernel.accessAllowed ? 'block' : 'none';\n",
              "\n",
              "        async function convertToInteractive(key) {\n",
              "          const element = document.querySelector('#df-9edbb11b-779e-43c3-9f72-150ddd6095e3');\n",
              "          const dataTable =\n",
              "            await google.colab.kernel.invokeFunction('convertToInteractive',\n",
              "                                                     [key], {});\n",
              "          if (!dataTable) return;\n",
              "\n",
              "          const docLinkHtml = 'Like what you see? Visit the ' +\n",
              "            '<a target=\"_blank\" href=https://colab.research.google.com/notebooks/data_table.ipynb>data table notebook</a>'\n",
              "            + ' to learn more about interactive tables.';\n",
              "          element.innerHTML = '';\n",
              "          dataTable['output_type'] = 'display_data';\n",
              "          await google.colab.output.renderOutput(dataTable, element);\n",
              "          const docLink = document.createElement('div');\n",
              "          docLink.innerHTML = docLinkHtml;\n",
              "          element.appendChild(docLink);\n",
              "        }\n",
              "      </script>\n",
              "    </div>\n",
              "  </div>\n",
              "  "
            ]
          },
          "metadata": {},
          "execution_count": 136
        }
      ]
    },
    {
      "cell_type": "code",
      "source": [
        "res['AGE'][120:140]"
      ],
      "metadata": {
        "colab": {
          "base_uri": "https://localhost:8080/",
          "height": 582
        },
        "id": "kxKTwBwm-yCM",
        "outputId": "c7a8b7c8-2dcb-4ee4-a6a0-602021c9919b"
      },
      "execution_count": null,
      "outputs": [
        {
          "output_type": "execute_result",
          "data": {
            "text/plain": [
              "                                               context  \\\n",
              "120   5 марта 2019 года титэцу ватанабэ отметил сво...   \n",
              "121   когда ватанабэ было 107 лет, в ответ на вопро...   \n",
              "122   113 - летнии масадзо нонака, которыи в апреле...   \n",
              "123   самым старым из когда - либо живших мужчин, п...   \n",
              "124   самым пожилым нынеживущим человеком на земле ...   \n",
              "125   общепризнанныи рекорд долголетия принадлежит ...   \n",
              "126   советник верховного руководителя страны в воз...   \n",
              "127   ранее от вируса умерла 23 - летняя футболистк...   \n",
              "128                                   ему было 70 лет.   \n",
              "129   филдсовская премия - одна из самых престижных...   \n",
              "130   33 - летнии хорват опередил в голосовании нап...   \n",
              "131   умерла стареишая жительница земли эмма морано...   \n",
              "132   члены ее семьи также оказались долгожителями ...   \n",
              "133   в октябре 1926 года она вышла замуж за джован...   \n",
              "134   в китае отметили 170 - летие публикации « ком...   \n",
              "135   празднование образования кнр, 2009 год в кита...   \n",
              "136  ли искусственно созданнои для коммуникации меж...   \n",
              "\n",
              "                                                  true  \\\n",
              "120             [(24, 29, 112 - и день рождения, AGE)]   \n",
              "121                           [(17, 19, 107 лет, AGE)]   \n",
              "122                      [(12, 16, 113 - летнии, AGE)]   \n",
              "123                  [(37, 42, 116 лет и 54 дня, AGE)]   \n",
              "124                      [(32, 35, 117 - летняя, AGE)]   \n",
              "125                [(35, 41, 122 лет и 164 днеи, AGE)]   \n",
              "126                           [(18, 20, 71 года, AGE)]   \n",
              "127                       [(16, 19, 23 - летняя, AGE)]   \n",
              "128                            [(14, 16, 70 лет, AGE)]   \n",
              "129                  [(33, 37, не старше 40 лет, AGE)]   \n",
              "130                       [(12, 16, 33 - летнии, AGE)]   \n",
              "131                [(51, 57, 117 лет и 137 днеи, AGE)]   \n",
              "132  [(31, 34, больше 90 лет, AGE), (49, 52, 102 - ...   \n",
              "133                     [(49, 51, шесть месяцев, AGE)]   \n",
              "134                       [(16, 19, 170 - летие, AGE)]   \n",
              "135                       [(23, 26, 170 - летие, AGE)]   \n",
              "136  [(22, 24, немецкии, LANGUAGE), (43, 46, китаис...   \n",
              "\n",
              "                                               predict TP possible actual  \n",
              "120                                                 []  0        1      0  \n",
              "121                           [(17, 19, 107 лет, AGE)]  1        1      1  \n",
              "122                      [(12, 16, 113 - летнии, AGE)]  1        1      1  \n",
              "123                                                 []  0        1      0  \n",
              "124                      [(32, 35, 117 - летняя, AGE)]  1        1      1  \n",
              "125  [(35, 37, 122 лет, AGE), (38, 41, 164 днеи, AGE)]  0        1      2  \n",
              "126                           [(18, 20, 71 года, AGE)]  1        1      1  \n",
              "127                       [(16, 19, 23 - летняя, AGE)]  1        1      1  \n",
              "128                            [(14, 16, 70 лет, AGE)]  1        1      1  \n",
              "129                  [(33, 37, не старше 40 лет, AGE)]  1        1      1  \n",
              "130                       [(12, 16, 33 - летнии, AGE)]  1        1      1  \n",
              "131                                                 []  0        1      0  \n",
              "132                      [(49, 52, 102 - летнем, AGE)]  1        2      1  \n",
              "133                                                 []  0        1      0  \n",
              "134                       [(16, 19, 170 - летие, AGE)]  1        1      1  \n",
              "135                       [(23, 26, 170 - летие, AGE)]  1        1      1  \n",
              "136  [(22, 24, немецкии, LANGUAGE), (43, 46, китаис...  2        2      2  "
            ],
            "text/html": [
              "\n",
              "  <div id=\"df-961fc263-dfc7-4b56-a897-431c8ae4a152\">\n",
              "    <div class=\"colab-df-container\">\n",
              "      <div>\n",
              "<style scoped>\n",
              "    .dataframe tbody tr th:only-of-type {\n",
              "        vertical-align: middle;\n",
              "    }\n",
              "\n",
              "    .dataframe tbody tr th {\n",
              "        vertical-align: top;\n",
              "    }\n",
              "\n",
              "    .dataframe thead th {\n",
              "        text-align: right;\n",
              "    }\n",
              "</style>\n",
              "<table border=\"1\" class=\"dataframe\">\n",
              "  <thead>\n",
              "    <tr style=\"text-align: right;\">\n",
              "      <th></th>\n",
              "      <th>context</th>\n",
              "      <th>true</th>\n",
              "      <th>predict</th>\n",
              "      <th>TP</th>\n",
              "      <th>possible</th>\n",
              "      <th>actual</th>\n",
              "    </tr>\n",
              "  </thead>\n",
              "  <tbody>\n",
              "    <tr>\n",
              "      <th>120</th>\n",
              "      <td>5 марта 2019 года титэцу ватанабэ отметил сво...</td>\n",
              "      <td>[(24, 29, 112 - и день рождения, AGE)]</td>\n",
              "      <td>[]</td>\n",
              "      <td>0</td>\n",
              "      <td>1</td>\n",
              "      <td>0</td>\n",
              "    </tr>\n",
              "    <tr>\n",
              "      <th>121</th>\n",
              "      <td>когда ватанабэ было 107 лет, в ответ на вопро...</td>\n",
              "      <td>[(17, 19, 107 лет, AGE)]</td>\n",
              "      <td>[(17, 19, 107 лет, AGE)]</td>\n",
              "      <td>1</td>\n",
              "      <td>1</td>\n",
              "      <td>1</td>\n",
              "    </tr>\n",
              "    <tr>\n",
              "      <th>122</th>\n",
              "      <td>113 - летнии масадзо нонака, которыи в апреле...</td>\n",
              "      <td>[(12, 16, 113 - летнии, AGE)]</td>\n",
              "      <td>[(12, 16, 113 - летнии, AGE)]</td>\n",
              "      <td>1</td>\n",
              "      <td>1</td>\n",
              "      <td>1</td>\n",
              "    </tr>\n",
              "    <tr>\n",
              "      <th>123</th>\n",
              "      <td>самым старым из когда - либо живших мужчин, п...</td>\n",
              "      <td>[(37, 42, 116 лет и 54 дня, AGE)]</td>\n",
              "      <td>[]</td>\n",
              "      <td>0</td>\n",
              "      <td>1</td>\n",
              "      <td>0</td>\n",
              "    </tr>\n",
              "    <tr>\n",
              "      <th>124</th>\n",
              "      <td>самым пожилым нынеживущим человеком на земле ...</td>\n",
              "      <td>[(32, 35, 117 - летняя, AGE)]</td>\n",
              "      <td>[(32, 35, 117 - летняя, AGE)]</td>\n",
              "      <td>1</td>\n",
              "      <td>1</td>\n",
              "      <td>1</td>\n",
              "    </tr>\n",
              "    <tr>\n",
              "      <th>125</th>\n",
              "      <td>общепризнанныи рекорд долголетия принадлежит ...</td>\n",
              "      <td>[(35, 41, 122 лет и 164 днеи, AGE)]</td>\n",
              "      <td>[(35, 37, 122 лет, AGE), (38, 41, 164 днеи, AGE)]</td>\n",
              "      <td>0</td>\n",
              "      <td>1</td>\n",
              "      <td>2</td>\n",
              "    </tr>\n",
              "    <tr>\n",
              "      <th>126</th>\n",
              "      <td>советник верховного руководителя страны в воз...</td>\n",
              "      <td>[(18, 20, 71 года, AGE)]</td>\n",
              "      <td>[(18, 20, 71 года, AGE)]</td>\n",
              "      <td>1</td>\n",
              "      <td>1</td>\n",
              "      <td>1</td>\n",
              "    </tr>\n",
              "    <tr>\n",
              "      <th>127</th>\n",
              "      <td>ранее от вируса умерла 23 - летняя футболистк...</td>\n",
              "      <td>[(16, 19, 23 - летняя, AGE)]</td>\n",
              "      <td>[(16, 19, 23 - летняя, AGE)]</td>\n",
              "      <td>1</td>\n",
              "      <td>1</td>\n",
              "      <td>1</td>\n",
              "    </tr>\n",
              "    <tr>\n",
              "      <th>128</th>\n",
              "      <td>ему было 70 лет.</td>\n",
              "      <td>[(14, 16, 70 лет, AGE)]</td>\n",
              "      <td>[(14, 16, 70 лет, AGE)]</td>\n",
              "      <td>1</td>\n",
              "      <td>1</td>\n",
              "      <td>1</td>\n",
              "    </tr>\n",
              "    <tr>\n",
              "      <th>129</th>\n",
              "      <td>филдсовская премия - одна из самых престижных...</td>\n",
              "      <td>[(33, 37, не старше 40 лет, AGE)]</td>\n",
              "      <td>[(33, 37, не старше 40 лет, AGE)]</td>\n",
              "      <td>1</td>\n",
              "      <td>1</td>\n",
              "      <td>1</td>\n",
              "    </tr>\n",
              "    <tr>\n",
              "      <th>130</th>\n",
              "      <td>33 - летнии хорват опередил в голосовании нап...</td>\n",
              "      <td>[(12, 16, 33 - летнии, AGE)]</td>\n",
              "      <td>[(12, 16, 33 - летнии, AGE)]</td>\n",
              "      <td>1</td>\n",
              "      <td>1</td>\n",
              "      <td>1</td>\n",
              "    </tr>\n",
              "    <tr>\n",
              "      <th>131</th>\n",
              "      <td>умерла стареишая жительница земли эмма морано...</td>\n",
              "      <td>[(51, 57, 117 лет и 137 днеи, AGE)]</td>\n",
              "      <td>[]</td>\n",
              "      <td>0</td>\n",
              "      <td>1</td>\n",
              "      <td>0</td>\n",
              "    </tr>\n",
              "    <tr>\n",
              "      <th>132</th>\n",
              "      <td>члены ее семьи также оказались долгожителями ...</td>\n",
              "      <td>[(31, 34, больше 90 лет, AGE), (49, 52, 102 - ...</td>\n",
              "      <td>[(49, 52, 102 - летнем, AGE)]</td>\n",
              "      <td>1</td>\n",
              "      <td>2</td>\n",
              "      <td>1</td>\n",
              "    </tr>\n",
              "    <tr>\n",
              "      <th>133</th>\n",
              "      <td>в октябре 1926 года она вышла замуж за джован...</td>\n",
              "      <td>[(49, 51, шесть месяцев, AGE)]</td>\n",
              "      <td>[]</td>\n",
              "      <td>0</td>\n",
              "      <td>1</td>\n",
              "      <td>0</td>\n",
              "    </tr>\n",
              "    <tr>\n",
              "      <th>134</th>\n",
              "      <td>в китае отметили 170 - летие публикации « ком...</td>\n",
              "      <td>[(16, 19, 170 - летие, AGE)]</td>\n",
              "      <td>[(16, 19, 170 - летие, AGE)]</td>\n",
              "      <td>1</td>\n",
              "      <td>1</td>\n",
              "      <td>1</td>\n",
              "    </tr>\n",
              "    <tr>\n",
              "      <th>135</th>\n",
              "      <td>празднование образования кнр, 2009 год в кита...</td>\n",
              "      <td>[(23, 26, 170 - летие, AGE)]</td>\n",
              "      <td>[(23, 26, 170 - летие, AGE)]</td>\n",
              "      <td>1</td>\n",
              "      <td>1</td>\n",
              "      <td>1</td>\n",
              "    </tr>\n",
              "    <tr>\n",
              "      <th>136</th>\n",
              "      <td>ли искусственно созданнои для коммуникации меж...</td>\n",
              "      <td>[(22, 24, немецкии, LANGUAGE), (43, 46, китаис...</td>\n",
              "      <td>[(22, 24, немецкии, LANGUAGE), (43, 46, китаис...</td>\n",
              "      <td>2</td>\n",
              "      <td>2</td>\n",
              "      <td>2</td>\n",
              "    </tr>\n",
              "  </tbody>\n",
              "</table>\n",
              "</div>\n",
              "      <button class=\"colab-df-convert\" onclick=\"convertToInteractive('df-961fc263-dfc7-4b56-a897-431c8ae4a152')\"\n",
              "              title=\"Convert this dataframe to an interactive table.\"\n",
              "              style=\"display:none;\">\n",
              "        \n",
              "  <svg xmlns=\"http://www.w3.org/2000/svg\" height=\"24px\"viewBox=\"0 0 24 24\"\n",
              "       width=\"24px\">\n",
              "    <path d=\"M0 0h24v24H0V0z\" fill=\"none\"/>\n",
              "    <path d=\"M18.56 5.44l.94 2.06.94-2.06 2.06-.94-2.06-.94-.94-2.06-.94 2.06-2.06.94zm-11 1L8.5 8.5l.94-2.06 2.06-.94-2.06-.94L8.5 2.5l-.94 2.06-2.06.94zm10 10l.94 2.06.94-2.06 2.06-.94-2.06-.94-.94-2.06-.94 2.06-2.06.94z\"/><path d=\"M17.41 7.96l-1.37-1.37c-.4-.4-.92-.59-1.43-.59-.52 0-1.04.2-1.43.59L10.3 9.45l-7.72 7.72c-.78.78-.78 2.05 0 2.83L4 21.41c.39.39.9.59 1.41.59.51 0 1.02-.2 1.41-.59l7.78-7.78 2.81-2.81c.8-.78.8-2.07 0-2.86zM5.41 20L4 18.59l7.72-7.72 1.47 1.35L5.41 20z\"/>\n",
              "  </svg>\n",
              "      </button>\n",
              "      \n",
              "  <style>\n",
              "    .colab-df-container {\n",
              "      display:flex;\n",
              "      flex-wrap:wrap;\n",
              "      gap: 12px;\n",
              "    }\n",
              "\n",
              "    .colab-df-convert {\n",
              "      background-color: #E8F0FE;\n",
              "      border: none;\n",
              "      border-radius: 50%;\n",
              "      cursor: pointer;\n",
              "      display: none;\n",
              "      fill: #1967D2;\n",
              "      height: 32px;\n",
              "      padding: 0 0 0 0;\n",
              "      width: 32px;\n",
              "    }\n",
              "\n",
              "    .colab-df-convert:hover {\n",
              "      background-color: #E2EBFA;\n",
              "      box-shadow: 0px 1px 2px rgba(60, 64, 67, 0.3), 0px 1px 3px 1px rgba(60, 64, 67, 0.15);\n",
              "      fill: #174EA6;\n",
              "    }\n",
              "\n",
              "    [theme=dark] .colab-df-convert {\n",
              "      background-color: #3B4455;\n",
              "      fill: #D2E3FC;\n",
              "    }\n",
              "\n",
              "    [theme=dark] .colab-df-convert:hover {\n",
              "      background-color: #434B5C;\n",
              "      box-shadow: 0px 1px 3px 1px rgba(0, 0, 0, 0.15);\n",
              "      filter: drop-shadow(0px 1px 2px rgba(0, 0, 0, 0.3));\n",
              "      fill: #FFFFFF;\n",
              "    }\n",
              "  </style>\n",
              "\n",
              "      <script>\n",
              "        const buttonEl =\n",
              "          document.querySelector('#df-961fc263-dfc7-4b56-a897-431c8ae4a152 button.colab-df-convert');\n",
              "        buttonEl.style.display =\n",
              "          google.colab.kernel.accessAllowed ? 'block' : 'none';\n",
              "\n",
              "        async function convertToInteractive(key) {\n",
              "          const element = document.querySelector('#df-961fc263-dfc7-4b56-a897-431c8ae4a152');\n",
              "          const dataTable =\n",
              "            await google.colab.kernel.invokeFunction('convertToInteractive',\n",
              "                                                     [key], {});\n",
              "          if (!dataTable) return;\n",
              "\n",
              "          const docLinkHtml = 'Like what you see? Visit the ' +\n",
              "            '<a target=\"_blank\" href=https://colab.research.google.com/notebooks/data_table.ipynb>data table notebook</a>'\n",
              "            + ' to learn more about interactive tables.';\n",
              "          element.innerHTML = '';\n",
              "          dataTable['output_type'] = 'display_data';\n",
              "          await google.colab.output.renderOutput(dataTable, element);\n",
              "          const docLink = document.createElement('div');\n",
              "          docLink.innerHTML = docLinkHtml;\n",
              "          element.appendChild(docLink);\n",
              "        }\n",
              "      </script>\n",
              "    </div>\n",
              "  </div>\n",
              "  "
            ]
          },
          "metadata": {},
          "execution_count": 114
        }
      ]
    },
    {
      "cell_type": "code",
      "source": [
        "res['AGE']['TN'].sum()\n"
      ],
      "metadata": {
        "id": "eF3ytIV4s2Hx",
        "colab": {
          "base_uri": "https://localhost:8080/"
        },
        "outputId": "4c08e681-6743-4229-e485-0fac05b661d4"
      },
      "execution_count": null,
      "outputs": [
        {
          "output_type": "execute_result",
          "data": {
            "text/plain": [
              "0"
            ]
          },
          "metadata": {},
          "execution_count": 70
        }
      ]
    },
    {
      "cell_type": "code",
      "source": [
        ""
      ],
      "metadata": {
        "id": "ZLmFyPuIzdt7"
      },
      "execution_count": null,
      "outputs": []
    },
    {
      "cell_type": "code",
      "source": [
        ""
      ],
      "metadata": {
        "id": "V4NecHnkzdxG"
      },
      "execution_count": null,
      "outputs": []
    },
    {
      "cell_type": "code",
      "source": [
        ""
      ],
      "metadata": {
        "id": "ekU7_5lAzd0T"
      },
      "execution_count": null,
      "outputs": []
    },
    {
      "cell_type": "code",
      "source": [
        ""
      ],
      "metadata": {
        "id": "Vm7jrmw6zd2e"
      },
      "execution_count": null,
      "outputs": []
    },
    {
      "cell_type": "code",
      "source": [
        ""
      ],
      "metadata": {
        "id": "Q5MlM1Dqzd5W"
      },
      "execution_count": null,
      "outputs": []
    },
    {
      "cell_type": "code",
      "source": [
        ""
      ],
      "metadata": {
        "id": "GFaRitvxzd7r"
      },
      "execution_count": null,
      "outputs": []
    },
    {
      "cell_type": "code",
      "source": [
        ""
      ],
      "metadata": {
        "id": "nsnQRopuzeHa"
      },
      "execution_count": null,
      "outputs": []
    },
    {
      "cell_type": "code",
      "source": [
        ""
      ],
      "metadata": {
        "id": "lFTJSzqEzeKh"
      },
      "execution_count": null,
      "outputs": []
    },
    {
      "cell_type": "code",
      "source": [
        "new_result_dict = res"
      ],
      "metadata": {
        "id": "ISjb8supzeNq"
      },
      "execution_count": null,
      "outputs": []
    }
  ]
}